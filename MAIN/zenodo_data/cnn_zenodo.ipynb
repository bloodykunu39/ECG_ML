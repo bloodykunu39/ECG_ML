{
 "cells": [
  {
   "cell_type": "code",
   "execution_count": 3,
   "metadata": {},
   "outputs": [],
   "source": [
    "import numpy as np"
   ]
  },
  {
   "cell_type": "code",
   "execution_count": 17,
   "metadata": {},
   "outputs": [],
   "source": [
    "path = 'D:/LARGE_CNN/ECG_ML/MAIN/zenodo_data/cg_16/'\n",
    "for iter in range(10):\n",
    "    iter = str(iter)\n",
    "    data_1dAVB = np.loadtxt(path + 'disease_1dAVB_svd_zenedo_cg_16_'+iter+'.txt')"
   ]
  },
  {
   "cell_type": "code",
   "execution_count": 13,
   "metadata": {},
   "outputs": [
    {
     "data": {
      "text/plain": [
       "array([[-1.03752471e-01, -1.05298926e-01, -1.03268385e-01, ...,\n",
       "        -1.93485205e-01, -3.19012760e-01, -4.78340088e-01],\n",
       "       [ 1.34455975e-03,  6.81009864e-04,  2.09541402e-04, ...,\n",
       "        -1.83571014e-03, -2.10846638e-03, -2.34812821e-03],\n",
       "       [ 4.04956899e-02,  5.19952840e-02,  5.58806160e-02, ...,\n",
       "        -9.24443047e-02, -1.77273949e-01, -2.85384393e-01],\n",
       "       ...,\n",
       "       [ 4.47146836e-03,  1.26769790e-03, -9.56322703e-04, ...,\n",
       "        -1.04110024e-03,  1.49925711e-03,  5.16380101e-03],\n",
       "       [-3.18560878e-03, -2.94458982e-03, -2.63231954e-03, ...,\n",
       "         4.61611953e-04,  6.62291710e-04,  9.24191072e-04],\n",
       "       [ 1.64008564e-02,  1.98937716e-02,  2.49519232e-02, ...,\n",
       "         1.36099947e-02,  5.10182689e-02,  9.83928277e-02]])"
      ]
     },
     "execution_count": 13,
     "metadata": {},
     "output_type": "execute_result"
    }
   ],
   "source": [
    "np.loadtxt('D:\\LARGE_CNN\\ECG_ML\\MAIN\\zenodo_data\\cg_16\\disease_1dAVB_svd_zenedo_cg_16_0.txt')"
   ]
  },
  {
   "cell_type": "code",
   "execution_count": null,
   "metadata": {},
   "outputs": [],
   "source": []
  }
 ],
 "metadata": {
  "kernelspec": {
   "display_name": "Python 3",
   "language": "python",
   "name": "python3"
  },
  "language_info": {
   "codemirror_mode": {
    "name": "ipython",
    "version": 3
   },
   "file_extension": ".py",
   "mimetype": "text/x-python",
   "name": "python",
   "nbconvert_exporter": "python",
   "pygments_lexer": "ipython3",
   "version": "3.11.7"
  }
 },
 "nbformat": 4,
 "nbformat_minor": 2
}
