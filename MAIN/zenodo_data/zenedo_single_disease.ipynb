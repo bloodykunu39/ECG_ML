{
 "cells": [
  {
   "cell_type": "markdown",
   "metadata": {},
   "source": [
    "## Data Segregation"
   ]
  },
  {
   "cell_type": "code",
   "execution_count": 9,
   "metadata": {},
   "outputs": [],
   "source": [
    "import h5py #type: ignore\n",
    "import pandas as pd #type: ignore\n",
    "import numpy as np #type:ignore\n",
    "from tqdm import tqdm\n"
   ]
  },
  {
   "cell_type": "markdown",
   "metadata": {},
   "source": [
    "#### Load Data"
   ]
  },
  {
   "cell_type": "code",
   "execution_count": 2,
   "metadata": {},
   "outputs": [
    {
     "name": "stdout",
     "output_type": "stream",
     "text": [
      "First few rows of the CSV file:\n",
      "   exam_id  age  is_male  nn_predicted_age  1dAVb   RBBB   LBBB     SB     ST  \\\n",
      "0  1169160   38     True         40.160484  False  False  False  False  False   \n",
      "1  2873686   73     True         67.059440  False  False  False  False  False   \n",
      "2   168405   67     True         79.621740  False  False  False  False  False   \n",
      "3   271011   41     True         69.750260  False  False  False  False  False   \n",
      "4   384368   73     True         78.873460  False  False  False  False  False   \n",
      "\n",
      "      AF  patient_id  death     timey  normal_ecg         trace_file  \n",
      "0  False      523632  False  2.098628        True  exams_part13.hdf5  \n",
      "1  False     1724173  False  6.657529       False  exams_part13.hdf5  \n",
      "2   True       51421  False  4.282188       False  exams_part13.hdf5  \n",
      "3  False     1737282  False  4.038353        True  exams_part13.hdf5  \n",
      "4  False      331652  False  3.786298       False  exams_part13.hdf5  \n"
     ]
    }
   ],
   "source": [
    "path = f'D:\\LARGE_CNN\\ECG_ML\\MAIN\\zenodo_data\\exams_extracted\\exams.csv'\n",
    "\n",
    "# path = '/home/pingal/Documents/ECG_data/'\n",
    "filename = path + 'exams.csv'\n",
    "df = pd.read_csv(path)\n",
    "\n",
    "print(\"First few rows of the CSV file:\")\n",
    "print(df.head())\n",
    "\n"
   ]
  },
  {
   "cell_type": "markdown",
   "metadata": {},
   "source": [
    "#### Exam ID for single disease"
   ]
  },
  {
   "cell_type": "code",
   "execution_count": 3,
   "metadata": {},
   "outputs": [],
   "source": [
    "code_1dAVb = []\n",
    "code_RBBB = []\n",
    "code_LBBB = []\n",
    "code_SB = []\n",
    "code_ST = []\n",
    "code_AF = []\n",
    "code_normal = []\n",
    "for index in range(df.shape[0]):\n",
    "    if df['1dAVb'][index] == True and df['RBBB'][index] == False and df['LBBB'][index] == False and df['SB'][index] == False and df['ST'][index] == False and df['AF'][index] == False and df['normal_ecg'][index] == False:\n",
    "        code_1dAVb.append(df['exam_id'][index])\n",
    "    if df['RBBB'][index] == True and df['1dAVb'][index] == False and df['LBBB'][index] == False and df['SB'][index] == False and df['ST'][index] == False and df['AF'][index] == False and df['normal_ecg'][index] == False:\n",
    "        code_RBBB.append(df['exam_id'][index])\n",
    "    if df['LBBB'][index] == True and df['RBBB'][index] == False and df['1dAVb'][index] == False and df['SB'][index] == False and df['ST'][index] == False and df['AF'][index] == False and df['normal_ecg'][index] == False:\n",
    "        code_LBBB.append(df['exam_id'][index])\n",
    "    if df['SB'][index] == True and df['RBBB'][index] == False and df['LBBB'][index] == False and df['1dAVb'][index] == False and df['ST'][index] == False and df['AF'][index] == False and df['normal_ecg'][index] == False:\n",
    "        code_SB.append(df['exam_id'][index])\n",
    "    if df['ST'][index] == True and df['RBBB'][index] == False and df['LBBB'][index] == False and df['SB'][index] == False and df['1dAVb'][index] == False and df['AF'][index] == False and df['normal_ecg'][index] == False:\n",
    "        code_ST.append(df['exam_id'][index])\n",
    "    if df['AF'][index] == True and df['RBBB'][index] == False and df['LBBB'][index] == False and df['SB'][index] == False and df['ST'][index] == False and df['1dAVb'][index] == False and df['normal_ecg'][index] == False:\n",
    "        code_AF.append(df['exam_id'][index])\n",
    "    if df['normal_ecg'][index] == True and df['RBBB'][index] == False and df['LBBB'][index] == False and df['SB'][index] == False and df['ST'][index] == False and df['AF'][index] == False and df['1dAVb'][index] == False:\n",
    "        code_normal.append(df['exam_id'][index])"
   ]
  },
  {
   "cell_type": "markdown",
   "metadata": {},
   "source": [
    "#### Size of classes"
   ]
  },
  {
   "cell_type": "code",
   "execution_count": 4,
   "metadata": {},
   "outputs": [
    {
     "name": "stdout",
     "output_type": "stream",
     "text": [
      "Lenght of data with 1dAVb: 4196\n",
      "Lenght of data with RBBB: 7685\n",
      "Lenght of data with LBBB: 4748\n",
      "Lenght of data with SB: 4890\n",
      "Lenght of data with ST: 6976\n",
      "Lenght of data with AF: 5609\n",
      "Lenght of data with normal ecg: 134657\n"
     ]
    }
   ],
   "source": [
    "print(f'Lenght of data with 1dAVb: {len(code_1dAVb)}')\n",
    "print(f'Lenght of data with RBBB: {len(code_RBBB)}')\n",
    "print(f'Lenght of data with LBBB: {len(code_LBBB)}')\n",
    "print(f'Lenght of data with SB: {len(code_SB)}')\n",
    "print(f'Lenght of data with ST: {len(code_ST)}')\n",
    "print(f'Lenght of data with AF: {len(code_AF)}')\n",
    "print(f'Lenght of data with normal ecg: {len(code_normal)}')\n",
    "\n"
   ]
  },
  {
   "cell_type": "markdown",
   "metadata": {},
   "source": [
    "#### Class Table"
   ]
  },
  {
   "cell_type": "code",
   "execution_count": 5,
   "metadata": {},
   "outputs": [],
   "source": [
    "diseases = ['1dAVB', 'RBBB', 'LBBB', 'SB', 'ST', 'AF', 'normal_ecg']\n",
    "size = [len(code_1dAVb), len(code_RBBB), len(code_RBBB), len(code_SB), len(code_ST), len(code_AF), len(code_normal)]\n",
    "\n",
    "table = pd.DataFrame({\n",
    "    'diseases' : diseases,\n",
    "    'size': size}\n",
    ")"
   ]
  },
  {
   "cell_type": "code",
   "execution_count": 6,
   "metadata": {},
   "outputs": [
    {
     "data": {
      "text/html": [
       "<div>\n",
       "<style scoped>\n",
       "    .dataframe tbody tr th:only-of-type {\n",
       "        vertical-align: middle;\n",
       "    }\n",
       "\n",
       "    .dataframe tbody tr th {\n",
       "        vertical-align: top;\n",
       "    }\n",
       "\n",
       "    .dataframe thead th {\n",
       "        text-align: right;\n",
       "    }\n",
       "</style>\n",
       "<table border=\"1\" class=\"dataframe\">\n",
       "  <thead>\n",
       "    <tr style=\"text-align: right;\">\n",
       "      <th></th>\n",
       "      <th>diseases</th>\n",
       "      <th>size</th>\n",
       "    </tr>\n",
       "  </thead>\n",
       "  <tbody>\n",
       "    <tr>\n",
       "      <th>0</th>\n",
       "      <td>1dAVB</td>\n",
       "      <td>4196</td>\n",
       "    </tr>\n",
       "    <tr>\n",
       "      <th>1</th>\n",
       "      <td>RBBB</td>\n",
       "      <td>7685</td>\n",
       "    </tr>\n",
       "    <tr>\n",
       "      <th>2</th>\n",
       "      <td>LBBB</td>\n",
       "      <td>7685</td>\n",
       "    </tr>\n",
       "    <tr>\n",
       "      <th>3</th>\n",
       "      <td>SB</td>\n",
       "      <td>4890</td>\n",
       "    </tr>\n",
       "    <tr>\n",
       "      <th>4</th>\n",
       "      <td>ST</td>\n",
       "      <td>6976</td>\n",
       "    </tr>\n",
       "    <tr>\n",
       "      <th>5</th>\n",
       "      <td>AF</td>\n",
       "      <td>5609</td>\n",
       "    </tr>\n",
       "    <tr>\n",
       "      <th>6</th>\n",
       "      <td>normal_ecg</td>\n",
       "      <td>134657</td>\n",
       "    </tr>\n",
       "  </tbody>\n",
       "</table>\n",
       "</div>"
      ],
      "text/plain": [
       "     diseases    size\n",
       "0       1dAVB    4196\n",
       "1        RBBB    7685\n",
       "2        LBBB    7685\n",
       "3          SB    4890\n",
       "4          ST    6976\n",
       "5          AF    5609\n",
       "6  normal_ecg  134657"
      ]
     },
     "execution_count": 6,
     "metadata": {},
     "output_type": "execute_result"
    }
   ],
   "source": [
    "table"
   ]
  },
  {
   "cell_type": "markdown",
   "metadata": {},
   "source": [
    "#### Disease Separation"
   ]
  },
  {
   "cell_type": "code",
   "execution_count": 7,
   "metadata": {},
   "outputs": [],
   "source": [
    "# path = '/home/pingal/Documents/ECG_data/'\n",
    "path = 'exams_extracted/'\n",
    "\n"
   ]
  },
  {
   "cell_type": "markdown",
   "metadata": {},
   "source": [
    "##### 1dAVb"
   ]
  },
  {
   "cell_type": "code",
   "execution_count": 10,
   "metadata": {},
   "outputs": [
    {
     "name": "stderr",
     "output_type": "stream",
     "text": [
      "Processing files: 100%|██████████| 17/17 [01:22<00:00,  4.88s/it]\n"
     ]
    }
   ],
   "source": [
    "counter = []\n",
    "\n",
    "for index in tqdm(range(0, 17), desc=\"Processing files\"):\n",
    "    filename = 'exams_part' + str(index) + '.hdf5'\n",
    "\n",
    "    data = h5py.File(path + filename)\n",
    "    data_tracings = data['tracings']\n",
    "    data_id = data['exam_id']\n",
    "\n",
    "    for elem in range(data_tracings.shape[0]):\n",
    "        if data_id[elem] in code_LBBB:\n",
    "            counter.append(data_tracings[elem])\n",
    "\n",
    "np.save('data_LBBB_only', counter)"
   ]
  },
  {
   "cell_type": "code",
   "execution_count": 15,
   "metadata": {},
   "outputs": [
    {
     "name": "stdout",
     "output_type": "stream",
     "text": [
      "d:\\LARGE_CNN\\ECG_ML\\MAIN\\zenodo_data\n"
     ]
    }
   ],
   "source": [
    "import os\n",
    "print(os.getcwd())"
   ]
  },
  {
   "cell_type": "markdown",
   "metadata": {},
   "source": [
    "##### LBBB"
   ]
  },
  {
   "cell_type": "code",
   "execution_count": 11,
   "metadata": {},
   "outputs": [
    {
     "name": "stderr",
     "output_type": "stream",
     "text": [
      "Processing files: 100%|██████████| 17/17 [00:32<00:00,  1.94s/it]\n"
     ]
    }
   ],
   "source": [
    "counter = []\n",
    "\n",
    "for index in tqdm(range(0, 17), desc=\"Processing files\"):\n",
    "    filename = 'exams_part' + str(index) + '.hdf5'\n",
    "\n",
    "    data = h5py.File(path+filename)\n",
    "    data_tracings = data['tracings']\n",
    "    data_id = data['exam_id']\n",
    "\n",
    "    for elem in range(data_tracings.shape[0]):\n",
    "        if data_id[elem] in code_LBBB:\n",
    "            counter.append(data_tracings[elem])\n",
    "\n",
    "\n",
    "np.save('data_LBBB_only', counter)\n",
    "\n",
    "    "
   ]
  },
  {
   "cell_type": "markdown",
   "metadata": {},
   "source": [
    "##### RBBB"
   ]
  },
  {
   "cell_type": "code",
   "execution_count": null,
   "metadata": {},
   "outputs": [
    {
     "name": "stderr",
     "output_type": "stream",
     "text": [
      "Processing files:   0%|          | 0/17 [00:00<?, ?it/s]"
     ]
    }
   ],
   "source": [
    "counter = []\n",
    "\n",
    "for index in tqdm(range(0, 17), desc=\"Processing files\"):\n",
    "    filename = 'exams_part' + str(index) + '.hdf5'\n",
    "\n",
    "    data = h5py.File(path+filename)\n",
    "    data_tracings = data['tracings']\n",
    "    data_id = data['exam_id']\n",
    "\n",
    "    for elem in range(data_tracings.shape[0]):\n",
    "        if data_id[elem] in code_RBBB:\n",
    "            counter.append(data_tracings[elem])\n",
    "\n",
    "\n",
    "np.save('data_RBBB_only', counter)\n",
    "\n",
    "    "
   ]
  },
  {
   "cell_type": "markdown",
   "metadata": {},
   "source": [
    "##### SB"
   ]
  },
  {
   "cell_type": "code",
   "execution_count": null,
   "metadata": {},
   "outputs": [],
   "source": [
    "counter = []\n",
    "\n",
    "for index in tqdm(range(0, 17), desc=\"Processing files\"):\n",
    "    filename = 'exams_part' + str(index) + '.hdf5'\n",
    "\n",
    "    data = h5py.File(path+filename)\n",
    "    data_tracings = data['tracings']\n",
    "    data_id = data['exam_id']\n",
    "\n",
    "    for elem in range(data_tracings.shape[0]):\n",
    "        if data_id[elem] in code_SB:\n",
    "            counter.append(data_tracings[elem])\n",
    "\n",
    "\n",
    "np.save('data_SB_only', counter)\n",
    "\n",
    "    "
   ]
  },
  {
   "cell_type": "markdown",
   "metadata": {},
   "source": [
    "##### ST"
   ]
  },
  {
   "cell_type": "code",
   "execution_count": null,
   "metadata": {},
   "outputs": [],
   "source": [
    "counter = []\n",
    "\n",
    "for index in tqdm(range(0, 17), desc=\"Processing files\"):\n",
    "    filename = 'exams_part' + str(index) + '.hdf5'\n",
    "\n",
    "    data = h5py.File(path+filename)\n",
    "    data_tracings = data['tracings']\n",
    "    data_id = data['exam_id']\n",
    "\n",
    "    for elem in range(data_tracings.shape[0]):\n",
    "        if data_id[elem] in code_ST:\n",
    "            counter.append(data_tracings[elem])\n",
    "\n",
    "\n",
    "np.save('data_ST_only', counter)\n",
    "\n",
    "    "
   ]
  },
  {
   "cell_type": "markdown",
   "metadata": {},
   "source": [
    "##### AF"
   ]
  },
  {
   "cell_type": "code",
   "execution_count": null,
   "metadata": {},
   "outputs": [],
   "source": [
    "counter = []\n",
    "\n",
    "for index in tqdm(range(0, 17), desc=\"Processing files\"):\n",
    "    filename = 'exams_part' + str(index) + '.hdf5'\n",
    "\n",
    "    data = h5py.File(path+filename)\n",
    "    data_tracings = data['tracings']\n",
    "    data_id = data['exam_id']\n",
    "\n",
    "    for elem in range(data_tracings.shape[0]):\n",
    "        if data_id[elem] in code_AF:\n",
    "            counter.append(data_tracings[elem])\n",
    "\n",
    "\n",
    "np.save('data_AF_only', counter)\n",
    "\n",
    "    "
   ]
  },
  {
   "cell_type": "markdown",
   "metadata": {},
   "source": [
    "##### normal_ecg"
   ]
  },
  {
   "cell_type": "code",
   "execution_count": null,
   "metadata": {},
   "outputs": [],
   "source": [
    "counter = []\n",
    "\n",
    "for index in tqdm(range(0, 17), desc=\"Processing files\"):\n",
    "    filename = 'exams_part' + str(index) + '.hdf5'\n",
    "\n",
    "    data = h5py.File(path+filename)\n",
    "    data_tracings = data['tracings']\n",
    "    data_id = data['exam_id']\n",
    "\n",
    "    for elem in range(data_tracings.shape[0]):\n",
    "        if data_id[elem] in code_normal:\n",
    "            counter.append(data_tracings[elem])\n",
    "\n",
    "\n",
    "np.save('data_normal_only', counter)\n",
    "\n",
    "    "
   ]
  },
  {
   "cell_type": "markdown",
   "metadata": {},
   "source": [
    "## Superposition"
   ]
  },
  {
   "cell_type": "code",
   "execution_count": null,
   "metadata": {},
   "outputs": [],
   "source": [
    "import numpy as np"
   ]
  },
  {
   "cell_type": "code",
   "execution_count": null,
   "metadata": {},
   "outputs": [],
   "source": [
    "data_1dAVB = np.load('data_1dAVB_only.npy')\n",
    "data_RBBB = np.load('data_RBBB_only.npy')\n",
    "data_LBBB = np.load('data_LBBB_only.npy')\n",
    "data_SB = np.load('data_SB_only.npy')\n",
    "data_ST = np.load('data_ST_only.npy')\n",
    "data_AF = np.load('data_AF_only.npy')\n",
    "data_normal = np.load('data_normal_only.npy')\n",
    "\n"
   ]
  },
  {
   "cell_type": "code",
   "execution_count": null,
   "metadata": {},
   "outputs": [],
   "source": [
    "def random_choice(arr):\n",
    "    selected_indices = np.random.choice(arr.shape[0], size=4000, replace=False)\n",
    "    selected_elements = arr[selected_indices, :, :]\n",
    "    return selected_elements"
   ]
  },
  {
   "cell_type": "code",
   "execution_count": 18,
   "metadata": {},
   "outputs": [],
   "source": [
    "import os \n",
    "os.chdir('..')"
   ]
  },
  {
   "cell_type": "code",
   "execution_count": null,
   "metadata": {},
   "outputs": [],
   "source": [
    "# chdir to MAIN\n",
    "defalut_path = os.getcwd()"
   ]
  },
  {
   "cell_type": "code",
   "execution_count": 20,
   "metadata": {},
   "outputs": [
    {
     "data": {
      "text/plain": [
       "'D:\\\\LARGE_CNN\\\\ECG_ML\\\\MAIN'"
      ]
     },
     "execution_count": 20,
     "metadata": {},
     "output_type": "execute_result"
    }
   ],
   "source": [
    "os.getcwd()"
   ]
  },
  {
   "cell_type": "code",
   "execution_count": 19,
   "metadata": {},
   "outputs": [],
   "source": [
    "from encoding import superposition\n",
    "from time import time\n",
    "from smoothening import coarsegrain\n",
    "from joblib import Parallel, delayed"
   ]
  },
  {
   "cell_type": "code",
   "execution_count": null,
   "metadata": {},
   "outputs": [],
   "source": [
    "\n",
    "data= random_choice(data_1dAVB)\n",
    "split_number = 10\n",
    "if len(data)%split_number == 0:\n",
    "    data_split = np.array_split(data,split_number)\n",
    "\n",
    "\n",
    "\n",
    "for i in range(split_number):\n",
    "    start = time()\n",
    "    cc = data_split[i]\n",
    "\n",
    "    norm_matrix = []\n",
    "    start = time()\n",
    "    result=[]\n",
    "    k=0\n",
    "    for j in cc:\n",
    "        sup=superposition(j,4096)\n",
    "        result.append(coarsegrain(sup,16))\n",
    "       \n",
    "        np.save('zenodo_data/raw/1dAVB_svd_zenedo_raw' + '_'+str(k+i*500) + '.npy',sup)\n",
    "        k+=1\n",
    "    result = np.array(result)\n",
    "    cc = []\n",
    "    for j in range(result.shape[0]):\n",
    "        cc.append(result[j].ravel())\n",
    "    # save as txt file\n",
    "    np.savetxt('zenodo_data/cg_16/disease_1dAVB_svd_zenedo_cg_16' + '_'+str(i) + '.txt',cc)\n",
    "    end=time()\n",
    "    print(f'Time taken for {i}th iteration is {end-start}')\n",
    "\n",
    "\n"
   ]
  },
  {
   "cell_type": "code",
   "execution_count": null,
   "metadata": {},
   "outputs": [],
   "source": [
    "num_cores = os.cpu_count()\n",
    "print(f\"Number of cores: {num_cores}\")"
   ]
  },
  {
   "cell_type": "code",
   "execution_count": 21,
   "metadata": {},
   "outputs": [
    {
     "name": "stdout",
     "output_type": "stream",
     "text": [
      "Time taken for 0th iteration is 1984.440768480301\n",
      "Time taken for 1th iteration is 2138.771918773651\n",
      "Time taken for 2th iteration is 2120.8808784484863\n",
      "Time taken for 3th iteration is 2123.702688217163\n",
      "Time taken for 4th iteration is 2118.041252374649\n",
      "Time taken for 5th iteration is 2123.806384563446\n",
      "Time taken for 6th iteration is 2126.9708907604218\n",
      "Time taken for 7th iteration is 2122.0705275535583\n",
      "Time taken for 8th iteration is 2155.3215606212616\n",
      "Time taken for 9th iteration is 2125.7246577739716\n"
     ]
    }
   ],
   "source": [
    "# for data_rbb\n",
    "data= random_choice(data_RBBB)\n",
    "split_number = 10\n",
    "if len(data)%split_number == 0:\n",
    "    data_split = np.array_split(data,split_number)\n",
    "for i in range(split_number):\n",
    "    start = time()\n",
    "    cc = data_split[i]\n",
    "\n",
    "    norm_matrix = []\n",
    "    start = time()\n",
    "    result=[]\n",
    "    k=0\n",
    "    for j in cc:\n",
    "        sup=superposition(j,4096)\n",
    "        result.append(coarsegrain(sup,16))\n",
    "        np.save('zenodo_data/raw/RBBB_svd_zenedo_raw' + '_'+str(i*500+k) + '.npy',sup)\n",
    "        k+=1\n",
    "    result = np.array(result)\n",
    "    cc = []\n",
    "    for j in range(result.shape[0]):\n",
    "        cc.append(result[j].ravel())\n",
    "    # save as txt file\n",
    "    np.savetxt('zenodo_data/cg_16/disease_RBBB_svd_zenedo_cg_16' + '_'+str(i) + '.txt',cc)\n",
    "    end=time()\n",
    "    print(f'Time taken for {i}th iteration is {end-start}')\n",
    "    \n"
   ]
  },
  {
   "cell_type": "code",
   "execution_count": 22,
   "metadata": {},
   "outputs": [
    {
     "name": "stdout",
     "output_type": "stream",
     "text": [
      "Time taken for 0th iteration is 682.0388684272766\n",
      "Time taken for 1th iteration is 682.3274810314178\n",
      "Time taken for 2th iteration is 677.0189752578735\n",
      "Time taken for 3th iteration is 684.3158042430878\n",
      "Time taken for 4th iteration is 679.5411303043365\n",
      "Time taken for 5th iteration is 667.0170845985413\n",
      "Time taken for 6th iteration is 662.3461940288544\n",
      "Time taken for 7th iteration is 660.902092218399\n",
      "Time taken for 8th iteration is 676.9440870285034\n",
      "Time taken for 9th iteration is 676.8412482738495\n"
     ]
    }
   ],
   "source": [
    "# data= random_choice(data_LBBB)\n",
    "# split_number = 10\n",
    "# if len(data)%split_number == 0:\n",
    "#     data_split = np.array_split(data,split_number)\n",
    "# for i in range(split_number):\n",
    "#     start = time()\n",
    "#     cc = data_split[i]\n",
    "\n",
    "#     norm_matrix = []\n",
    "#     start = time()\n",
    "#     result=[]\n",
    "#     k=0\n",
    "#     for j in cc:\n",
    "#         sup=superposition(j,4096)\n",
    "#         result.append(coarsegrain(sup,16))\n",
    "#         np.save('zenodo_data/raw/LBBB_svd_zenedo_raw' + '_'+str(i*500+k) + '.npy',sup)\n",
    "#         k+=1\n",
    "#     result = np.array(result)\n",
    "#     cc = []\n",
    "#     for j in range(result.shape[0]):\n",
    "#         cc.append(result[j].ravel())\n",
    "#     # save as txt file\n",
    "#     np.savetxt('zenodo_data/cg_16/disease_LBBB_svd_zenedo_cg_16' + '_'+str(i) + '.txt',cc)\n",
    "#     end=time()\n",
    "#     print(f'Time taken for {i}th iteration is {end-start}')\n",
    "\n",
    "data= random_choice(data_LBBB)\n",
    "split_number = 10\n",
    "if len(data)%split_number == 0:\n",
    "    data_split = np.array_split(data,split_number)\n",
    "for i in range(split_number):\n",
    "    start = time()\n",
    "    cc = data_split[i]\n",
    "\n",
    "    norm_matrix = []\n",
    "    start = time()\n",
    "    result=[]\n",
    "    k=0\n",
    "    for j in cc:\n",
    "        sup=np.load('zenodo_data/raw/LBBB_svd_zenedo_raw_'+str(i*500+k) + '.npy')\n",
    "        result.append(coarsegrain(sup,16))\n",
    "        k+=1\n",
    "    result = np.array(result)\n",
    "    cc = []\n",
    "    for j in range(result.shape[0]):\n",
    "        cc.append(result[j].ravel())\n",
    "    # save as txt file\n",
    "    np.savetxt('zenodo_data/cg_16/disease_LBBB_svd_zenedo_cg_16' + '_'+str(i) + '.txt',cc)\n",
    "    end=time()\n",
    "    print(f'Time taken for {i}th iteration is {end-start}')\n"
   ]
  },
  {
   "cell_type": "code",
   "execution_count": 24,
   "metadata": {},
   "outputs": [
    {
     "name": "stdout",
     "output_type": "stream",
     "text": [
      "Time taken for 0th iteration is 334.3991458415985\n",
      "Time taken for 1th iteration is 342.7091324329376\n",
      "Time taken for 2th iteration is 444.3378119468689\n",
      "Time taken for 3th iteration is 588.5963659286499\n",
      "Time taken for 4th iteration is 590.5428681373596\n",
      "Time taken for 5th iteration is 590.7535533905029\n",
      "Time taken for 6th iteration is 415.6275625228882\n",
      "Time taken for 7th iteration is 428.2834737300873\n",
      "Time taken for 8th iteration is 323.434592962265\n",
      "Time taken for 9th iteration is 315.95596742630005\n"
     ]
    }
   ],
   "source": [
    "# data= random_choice(data_SB)\n",
    "# split_number = 10\n",
    "# if len(data)%split_number == 0:\n",
    "#     data_split = np.array_split(data,split_number)\n",
    "# for i in range(split_number):\n",
    "#     start = time()\n",
    "#     cc = data_split[i]\n",
    "#     k=0\n",
    "#     norm_matrix = []\n",
    "#     start = time()\n",
    "#     result=[]\n",
    "#     for j in cc:\n",
    "#         sup=superposition(j,4096)\n",
    "#         result.append(coarsegrain(sup,16))\n",
    "#         np.save('zenodo_data/raw/SB_svd_zenedo_raw' + '_'+str(500*i+1) + '.npy',sup)\n",
    "#         k+=1\n",
    "#     result = np.array(result)\n",
    "#     cc = []\n",
    "#     for j in range(result.shape[0]):\n",
    "#         cc.append(result[j].ravel())\n",
    "#     # save as txt file\n",
    "#     np.savetxt('zenodo_data/cg_16/disease_SB_svd_zenedo_cg_16' + '_'+str(i) + '.txt',cc)\n",
    "#     end=time()\n",
    "#     print(f'Time taken for {i}th iteration is {end-start}')\n",
    "\n",
    "data= random_choice(data_SB)\n",
    "split_number = 10\n",
    "if len(data)%split_number == 0:\n",
    "    data_split = np.array_split(data,split_number)\n",
    "for i in range(split_number):\n",
    "    start = time()\n",
    "    cc = data_split[i]\n",
    "    k=0\n",
    "    norm_matrix = []\n",
    "    start = time()\n",
    "    result=[]\n",
    "    for j in cc:\n",
    "        sup=np.load('zenodo_data/raw/SB_svd_zenedo_raw' + '_'+str(500*i+1) + '.npy')\n",
    "        result.append(coarsegrain(sup,16))\n",
    "        k+=1\n",
    "    result = np.array(result)\n",
    "    cc = []\n",
    "    for j in range(result.shape[0]):\n",
    "        cc.append(result[j].ravel())\n",
    "    # save as txt file\n",
    "    np.savetxt('zenodo_data/cg_16/disease_SB_svd_zenedo_cg_16' + '_'+str(i) + '.txt',cc)\n",
    "    end=time()\n",
    "    print(f'Time taken for {i}th iteration is {end-start}')"
   ]
  },
  {
   "cell_type": "code",
   "execution_count": 25,
   "metadata": {},
   "outputs": [
    {
     "name": "stdout",
     "output_type": "stream",
     "text": [
      "Time taken for 0th iteration is 670.9600348472595\n",
      "Time taken for 1th iteration is 685.9791774749756\n",
      "Time taken for 2th iteration is 690.0085554122925\n",
      "Time taken for 3th iteration is 694.2891221046448\n",
      "Time taken for 4th iteration is 694.1572930812836\n",
      "Time taken for 5th iteration is 698.0908434391022\n",
      "Time taken for 6th iteration is 700.5424847602844\n",
      "Time taken for 7th iteration is 700.1845257282257\n",
      "Time taken for 8th iteration is 688.7724380493164\n",
      "Time taken for 9th iteration is 689.4401624202728\n"
     ]
    }
   ],
   "source": [
    "# data= random_choice(data_ST)\n",
    "# split_number = 10\n",
    "# if len(data)%split_number == 0:\n",
    "#     data_split = np.array_split(data,split_number)\n",
    "# for i in range(split_number):\n",
    "#     start = time()\n",
    "#     cc = data_split[i]\n",
    "#     k=0\n",
    "#     norm_matrix = []\n",
    "#     start = time()\n",
    "#     result=[]\n",
    "#     for j in cc:\n",
    "#         sup=superposition(j,4096)\n",
    "#         result.append(coarsegrain(sup,16))\n",
    "#         np.save('zenodo_data/raw/ST_svd_zenedo_raw' + '_'+str(i*500+k) + '.npy',sup)\n",
    "#         k+=1\n",
    "#     result = np.array(result)\n",
    "#     cc = []\n",
    "#     for j in range(result.shape[0]):\n",
    "#         cc.append(result[j].ravel())\n",
    "#     # save as txt file\n",
    "#     np.savetxt('zenodo_data/cg_16/disease_ST_svd_zenedo_cg_16' + '_'+str(i) + '.txt',cc)\n",
    "#     end=time()\n",
    "#     print(f'Time taken for {i}th iteration is {end-start}')\n",
    "\n",
    "data= random_choice(data_ST)\n",
    "split_number = 10\n",
    "if len(data)%split_number == 0:\n",
    "    data_split = np.array_split(data,split_number)\n",
    "for i in range(split_number):\n",
    "    start = time()\n",
    "    cc = data_split[i]\n",
    "    k=0\n",
    "    norm_matrix = []\n",
    "    start = time()\n",
    "    result=[]\n",
    "    for j in cc:\n",
    "        sup=np.load('zenodo_data/raw/ST_svd_zenedo_raw_'+str(i*500+k) + '.npy')\n",
    "        result.append(coarsegrain(sup,16))\n",
    "        \n",
    "        k+=1\n",
    "    result = np.array(result)\n",
    "    cc = []\n",
    "    for j in range(result.shape[0]):\n",
    "        cc.append(result[j].ravel())\n",
    "    # save as txt file\n",
    "    np.savetxt('zenodo_data/cg_16/disease_ST_svd_zenedo_cg_16' + '_'+str(i) + '.txt',cc)\n",
    "    end=time()\n",
    "    print(f'Time taken for {i}th iteration is {end-start}')\n"
   ]
  },
  {
   "cell_type": "code",
   "execution_count": 26,
   "metadata": {},
   "outputs": [
    {
     "name": "stdout",
     "output_type": "stream",
     "text": [
      "Time taken for 0th iteration is 689.8258237838745\n",
      "Time taken for 1th iteration is 703.1086962223053\n",
      "Time taken for 2th iteration is 704.2255492210388\n",
      "Time taken for 3th iteration is 703.4814314842224\n",
      "Time taken for 4th iteration is 706.014505147934\n",
      "Time taken for 5th iteration is 718.3398759365082\n",
      "Time taken for 6th iteration is 721.8480620384216\n",
      "Time taken for 7th iteration is 723.120908498764\n",
      "Time taken for 8th iteration is 724.7101504802704\n",
      "Time taken for 9th iteration is 724.8193774223328\n"
     ]
    }
   ],
   "source": [
    "# data= random_choice(data_AF)\n",
    "# split_number = 10\n",
    "# if len(data)%split_number == 0:\n",
    "#     data_split = np.array_split(data,split_number)\n",
    "# for i in range(split_number):\n",
    "#     start = time()\n",
    "#     cc = data_split[i]\n",
    "#     k=0\n",
    "#     norm_matrix = []\n",
    "#     start = time()\n",
    "#     result=[]\n",
    "#     for j in cc:\n",
    "#         sup=superposition(j,4096)\n",
    "#         result.append(coarsegrain(sup,16))\n",
    "#         np.save('zenodo_data/raw/AF_svd_zenedo_raw' + '_'+str(500*i+k) + '.npy',sup)\n",
    "#         k+=1\n",
    "#     result = np.array(result)\n",
    "#     cc = []\n",
    "#     for j in range(result.shape[0]):\n",
    "#         cc.append(result[j].ravel())\n",
    "#     # save as txt file\n",
    "#     np.savetxt('zenodo_data/cg_16/disease_AF_svd_zenedo_cg_16' + '_'+str(i) + '.txt',cc)\n",
    "#     end=time()\n",
    "#     print(f'Time taken for {i}th iteration is {end-start}')\n",
    "\n",
    "data= random_choice(data_AF)\n",
    "split_number = 10\n",
    "if len(data)%split_number == 0:\n",
    "    data_split = np.array_split(data,split_number)\n",
    "for i in range(split_number):\n",
    "    start = time()\n",
    "    cc = data_split[i]\n",
    "    k=0\n",
    "    norm_matrix = []\n",
    "    start = time()\n",
    "    result=[]\n",
    "    for j in cc:\n",
    "        sup=np.load('zenodo_data/raw/AF_svd_zenedo_raw' + '_'+str(500*i+k) + '.npy')\n",
    "        result.append(coarsegrain(sup,16))\n",
    "        \n",
    "        k+=1\n",
    "    result = np.array(result)\n",
    "    cc = []\n",
    "    for j in range(result.shape[0]):\n",
    "        cc.append(result[j].ravel())\n",
    "    # save as txt file\n",
    "    np.savetxt('zenodo_data/cg_16/disease_AF_svd_zenedo_cg_16' + '_'+str(i) + '.txt',cc)\n",
    "    end=time()\n",
    "    print(f'Time taken for {i}th iteration is {end-start}')"
   ]
  },
  {
   "cell_type": "code",
   "execution_count": 27,
   "metadata": {},
   "outputs": [
    {
     "name": "stdout",
     "output_type": "stream",
     "text": [
      "Time taken for 0th iteration is 1035.6585462093353\n",
      "Time taken for 1th iteration is 1026.4871034622192\n",
      "Time taken for 2th iteration is 1003.9798903465271\n",
      "Time taken for 3th iteration is 1007.7510056495667\n",
      "Time taken for 4th iteration is 1002.5866529941559\n",
      "Time taken for 5th iteration is 988.538816690445\n",
      "Time taken for 6th iteration is 990.7438371181488\n",
      "Time taken for 7th iteration is 992.4612226486206\n",
      "Time taken for 8th iteration is 991.9540224075317\n",
      "Time taken for 9th iteration is 993.7199640274048\n"
     ]
    }
   ],
   "source": [
    "# data= random_choice(data_normal)\n",
    "# split_number = 10\n",
    "# if len(data)%split_number == 0:\n",
    "#     data_split = np.array_split(data,split_number)\n",
    "# for i in range(split_number):\n",
    "#     start = time()\n",
    "#     cc = data_split[i]\n",
    "\n",
    "#     norm_matrix = []\n",
    "#     start = time()\n",
    "#     result=[]\n",
    "#     k=0\n",
    "#     for j in cc:\n",
    "#         sup=superposition(j,4096)\n",
    "#         result.append(coarsegrain(sup,16))\n",
    "#         np.save('zenodo_data/raw/normal_svd_zenedo_raw' + '_'+str(i*500+k) + '.npy',sup)\n",
    "#         k+=1\n",
    "#     result = np.array(result)\n",
    "#     cc = []\n",
    "#     for j in range(result.shape[0]):\n",
    "#         cc.append(result[j].ravel())\n",
    "#     # save as txt file\n",
    "#     np.savetxt('zenodo_data/cg_16/disease_normal_svd_zenedo_cg_16' + '_'+str(i) + '.txt',cc)\n",
    "#     end=time()\n",
    "#     print(f'Time taken for {i}th iteration is {end-start}')\n",
    "\n",
    "data= random_choice(data_normal)\n",
    "split_number = 10\n",
    "if len(data)%split_number == 0:\n",
    "    data_split = np.array_split(data,split_number)\n",
    "for i in range(split_number):\n",
    "    start = time()\n",
    "    cc = data_split[i]\n",
    "\n",
    "    norm_matrix = []\n",
    "    start = time()\n",
    "    result=[]\n",
    "    k=0\n",
    "    for j in cc:\n",
    "        sup= np.load('zenodo_data/raw/normal_svd_zenedo_raw' + '_'+str(i*500+k) + '.npy')\n",
    "        result.append(coarsegrain(sup,16))\n",
    "        np.save('zenodo_data/raw/normal_svd_zenedo_raw' + '_'+str(i*500+k) + '.npy',sup)\n",
    "        k+=1\n",
    "    result = np.array(result)\n",
    "    cc = []\n",
    "    for j in range(result.shape[0]):\n",
    "        cc.append(result[j].ravel())\n",
    "    # save as txt file\n",
    "    np.savetxt('zenodo_data/cg_16/disease_normal_svd_zenedo_cg_16' + '_'+str(i) + '.txt',cc)\n",
    "    end=time()\n",
    "    print(f'Time taken for {i}th iteration is {end-start}')"
   ]
  },
  {
   "cell_type": "markdown",
   "metadata": {},
   "source": [
    "## Stacking"
   ]
  },
  {
   "cell_type": "code",
   "execution_count": 1,
   "metadata": {},
   "outputs": [],
   "source": [
    "import numpy as np\n",
    "import os \n",
    "\n",
    "from io import BytesIO\n",
    "from PIL import Image\n",
    "\n",
    "\n"
   ]
  },
  {
   "cell_type": "code",
   "execution_count": 2,
   "metadata": {},
   "outputs": [],
   "source": [
    "def random_choice(arr):\n",
    "    selected_indices = np.random.choice(arr.shape[0], size=5000, replace=False)\n",
    "    selected_elements = arr[selected_indices, :, :]\n",
    "    return selected_elements"
   ]
  },
  {
   "cell_type": "code",
   "execution_count": 3,
   "metadata": {},
   "outputs": [],
   "source": [
    "# data_1dAVB = np.load('data_1dAVB.npy')\n",
    "# data_RBBB = np.load('data_RBBB.npy')\n",
    "# data_LBBB = np.load('data_LBBB.npy')\n",
    "# data_SB = np.load('data_SB.npy')\n",
    "# data_ST = np.load('data_ST.npy')\n",
    "# data_AF = np.load('data_AF.npy')\n",
    "# data_normal = np.load('data_normal.npy')"
   ]
  },
  {
   "cell_type": "code",
   "execution_count": 4,
   "metadata": {},
   "outputs": [],
   "source": [
    "os.chdir('..')\n",
    "\n",
    "defalut_path = os.getcwd()\n",
    "\n",
    "from time import time\n",
    "from smoothening import coarsegrain\n"
   ]
  },
  {
   "cell_type": "code",
   "execution_count": 5,
   "metadata": {},
   "outputs": [],
   "source": [
    "import matplotlib.pyplot as plt\n",
    "def image_matrix(data):\n",
    "    plt.plot(data)\n",
    "    buf = BytesIO()\n",
    "    plt.savefig(buf, format = 'png')\n",
    "    plt.close()\n",
    "\n",
    "    buf.seek(0)\n",
    "    image = Image.open(buf)\n",
    "    image_array = np.array(image)\n",
    "    image_mat = image_array.mean(axis = -1)\n",
    "\n",
    "    return image_mat\n",
    "\n",
    "def image_stack_matrix(data):\n",
    "    data_stack = np.zeros(4096, dtype=float)\n",
    "    for iter in range(data.shape[1]):\n",
    "        data_stack += data[:,iter]\n",
    "    image_stack = image_matrix(data_stack)\n",
    "    return image_stack, data_stack\n",
    "    "
   ]
  },
  {
   "cell_type": "code",
   "execution_count": 6,
   "metadata": {},
   "outputs": [],
   "source": [
    "os.chdir('D:\\LARGE_CNN\\ECG_ML\\MAIN\\zenodo_data')"
   ]
  },
  {
   "cell_type": "code",
   "execution_count": 30,
   "metadata": {},
   "outputs": [],
   "source": [
    "path = f'D:\\LARGE_CNN\\ECG_ML\\MAIN\\zenodo_data\\data_stack_image\\disease_1dAVB_svd_zenedo_im_0.txt'"
   ]
  },
  {
   "cell_type": "code",
   "execution_count": 32,
   "metadata": {},
   "outputs": [],
   "source": [
    "data = np.loadtxt(path)"
   ]
  },
  {
   "cell_type": "code",
   "execution_count": 35,
   "metadata": {},
   "outputs": [
    {
     "data": {
      "text/plain": [
       "(4096, 12)"
      ]
     },
     "execution_count": 35,
     "metadata": {},
     "output_type": "execute_result"
    }
   ],
   "source": [
    "path = f'D:\\LARGE_CNN\\ECG_ML\\MAIN\\zenodo_data\\data_RBBB.npy'\n",
    "data = np.load(path)\n",
    "data[0].shape"
   ]
  },
  {
   "cell_type": "code",
   "execution_count": 34,
   "metadata": {},
   "outputs": [
    {
     "data": {
      "text/plain": [
       "<matplotlib.image.AxesImage at 0x1b299068310>"
      ]
     },
     "execution_count": 34,
     "metadata": {},
     "output_type": "execute_result"
    },
    {
     "data": {
      "image/png": "[encoded data removed]",
      "text/plain": [
       "<Figure size 640x480 with 1 Axes>"
      ]
     },
     "metadata": {},
     "output_type": "display_data"
    }
   ],
   "source": [
    "plt.imshow(data[0].reshape(480,640))"
   ]
  },
  {
   "cell_type": "code",
   "execution_count": 7,
   "metadata": {},
   "outputs": [
    {
     "name": "stdout",
     "output_type": "stream",
     "text": [
      "Time taken for 0th iteration is 144.80657577514648\n",
      "Time taken for 1th iteration is 151.4675669670105\n",
      "Time taken for 2th iteration is 144.87867498397827\n",
      "Time taken for 3th iteration is 144.30147004127502\n",
      "Time taken for 4th iteration is 146.95459127426147\n",
      "Time taken for 5th iteration is 148.75986766815186\n",
      "Time taken for 6th iteration is 150.05682611465454\n",
      "Time taken for 7th iteration is 148.68565940856934\n",
      "Time taken for 8th iteration is 151.8022530078888\n",
      "Time taken for 9th iteration is 147.82221579551697\n"
     ]
    }
   ],
   "source": [
    "data_1dAVB = np.load('data_1dAVB.npy')\n",
    "data= random_choice(data_1dAVB)\n",
    "split_number = 10\n",
    "if len(data)%split_number == 0:\n",
    "    data_split = np.array_split(data,split_number)\n",
    "\n",
    "\n",
    "\n",
    "for i in range(split_number):\n",
    "    start = time()\n",
    "    cc = data_split[i]\n",
    "\n",
    "    norm_matrix = []\n",
    "    start = time()\n",
    "    result_mat=[]\n",
    "    result_arr = []\n",
    "    for j in cc:\n",
    "        sup=image_stack_matrix(j)\n",
    "        result_mat.append(sup[0])\n",
    "        result_arr.append(sup[1])\n",
    "       \n",
    "    result_mat = np.array(result_mat)\n",
    "    result_arr = np.array(result_arr)\n",
    "\n",
    "    cc_mat = []\n",
    "    cc_arr = []\n",
    "    for j in range(result_mat.shape[0]):\n",
    "        cc_mat.append(result_mat[j].ravel())\n",
    "        cc_arr.append(result_arr[j].ravel())\n",
    "\n",
    "    # save as txt file\n",
    "    np.savetxt('data_stack_image/disease_1dAVB_svd_zenedo_im' + '_'+str(i) + '.txt',cc_mat)\n",
    "    np.savetxt('data_stack_signal/disease_1dAVB_svd_zenedo_si' + '_'+str(i) + '.txt',cc_arr)\n",
    "    end=time()\n",
    "    print(f'Time taken for {i}th iteration is {end-start}')\n",
    "\n",
    "del data_1dAVB\n",
    "\n"
   ]
  },
  {
   "cell_type": "code",
   "execution_count": 8,
   "metadata": {},
   "outputs": [
    {
     "name": "stdout",
     "output_type": "stream",
     "text": [
      "Time taken for 0th iteration is 163.05942034721375\n",
      "Time taken for 1th iteration is 144.8742082118988\n",
      "Time taken for 2th iteration is 144.5354073047638\n",
      "Time taken for 3th iteration is 148.69309830665588\n",
      "Time taken for 4th iteration is 146.68204760551453\n",
      "Time taken for 5th iteration is 148.80933952331543\n",
      "Time taken for 6th iteration is 145.19041991233826\n",
      "Time taken for 7th iteration is 148.33814668655396\n",
      "Time taken for 8th iteration is 144.27597641944885\n",
      "Time taken for 9th iteration is 153.48603892326355\n"
     ]
    }
   ],
   "source": [
    "data_LBBB = np.load('data_LBBB.npy')\n",
    "data= random_choice(data_LBBB)\n",
    "split_number = 10\n",
    "if len(data)%split_number == 0:\n",
    "    data_split = np.array_split(data,split_number)\n",
    "\n",
    "\n",
    "\n",
    "for i in range(split_number):\n",
    "    start = time()\n",
    "    cc = data_split[i]\n",
    "\n",
    "    norm_matrix = []\n",
    "    start = time()\n",
    "    result_mat=[]\n",
    "    result_arr = []\n",
    "    for j in cc:\n",
    "        sup=image_stack_matrix(j)\n",
    "        result_mat.append(sup[0])\n",
    "        result_arr.append(sup[1])\n",
    "       \n",
    "    result_mat = np.array(result_mat)\n",
    "    result_arr = np.array(result_arr)\n",
    "\n",
    "    cc_mat = []\n",
    "    cc_arr = []\n",
    "    for j in range(result_mat.shape[0]):\n",
    "        cc_mat.append(result_mat[j].ravel())\n",
    "        cc_arr.append(result_arr[j].ravel())\n",
    "\n",
    "    # save as txt file\n",
    "    np.savetxt('data_stack_image/disease_LBBB_svd_zenedo_im' + '_'+str(i) + '.txt',cc_mat)\n",
    "    np.savetxt('data_stack_signal/disease_LBBB_svd_zenedo_si' + '_'+str(i) + '.txt',cc_arr)\n",
    "    end=time()\n",
    "    print(f'Time taken for {i}th iteration is {end-start}')\n",
    "\n",
    "del data_LBBB\n",
    "\n"
   ]
  },
  {
   "cell_type": "code",
   "execution_count": 9,
   "metadata": {},
   "outputs": [
    {
     "name": "stdout",
     "output_type": "stream",
     "text": [
      "Time taken for 0th iteration is 149.08080768585205\n",
      "Time taken for 1th iteration is 167.49593901634216\n",
      "Time taken for 2th iteration is 146.10776448249817\n",
      "Time taken for 3th iteration is 148.53128266334534\n",
      "Time taken for 4th iteration is 149.91135835647583\n",
      "Time taken for 5th iteration is 150.57099056243896\n",
      "Time taken for 6th iteration is 147.88884091377258\n",
      "Time taken for 7th iteration is 150.96733736991882\n",
      "Time taken for 8th iteration is 150.50646376609802\n",
      "Time taken for 9th iteration is 146.13759803771973\n"
     ]
    }
   ],
   "source": [
    "data_RBBB = np.load('data_RBBB.npy')\n",
    "data= random_choice(data_RBBB)\n",
    "split_number = 10\n",
    "if len(data)%split_number == 0:\n",
    "    data_split = np.array_split(data,split_number)\n",
    "\n",
    "\n",
    "\n",
    "for i in range(split_number):\n",
    "    start = time()\n",
    "    cc = data_split[i]\n",
    "\n",
    "    norm_matrix = []\n",
    "    start = time()\n",
    "    result_mat=[]\n",
    "    result_arr = []\n",
    "    for j in cc:\n",
    "        sup=image_stack_matrix(j)\n",
    "        result_mat.append(sup[0])\n",
    "        result_arr.append(sup[1])\n",
    "       \n",
    "    result_mat = np.array(result_mat)\n",
    "    result_arr = np.array(result_arr)\n",
    "\n",
    "    cc_mat = []\n",
    "    cc_arr = []\n",
    "    for j in range(result_mat.shape[0]):\n",
    "        cc_mat.append(result_mat[j].ravel())\n",
    "        cc_arr.append(result_arr[j].ravel())\n",
    "\n",
    "    # save as txt file\n",
    "    np.savetxt('data_stack_image/disease_RBBB_svd_zenedo_im' + '_'+str(i) + '.txt',cc_mat)\n",
    "    np.savetxt('data_stack_signal/disease_RBBB_svd_zenedo_si' + '_'+str(i) + '.txt',cc_arr)\n",
    "    end=time()\n",
    "    print(f'Time taken for {i}th iteration is {end-start}')\n",
    "\n",
    "del data_RBBB\n",
    "\n"
   ]
  },
  {
   "cell_type": "code",
   "execution_count": 10,
   "metadata": {},
   "outputs": [
    {
     "name": "stdout",
     "output_type": "stream",
     "text": [
      "Time taken for 0th iteration is 146.6371772289276\n",
      "Time taken for 1th iteration is 167.16142225265503\n",
      "Time taken for 2th iteration is 145.99675989151\n",
      "Time taken for 3th iteration is 147.65351009368896\n",
      "Time taken for 4th iteration is 148.24519515037537\n",
      "Time taken for 5th iteration is 149.75292038917542\n",
      "Time taken for 6th iteration is 146.06345796585083\n",
      "Time taken for 7th iteration is 150.12757325172424\n",
      "Time taken for 8th iteration is 143.81531739234924\n",
      "Time taken for 9th iteration is 149.47780060768127\n"
     ]
    }
   ],
   "source": [
    "data_SB = np.load('data_SB.npy')\n",
    "data= random_choice(data_SB)\n",
    "split_number = 10\n",
    "if len(data)%split_number == 0:\n",
    "    data_split = np.array_split(data,split_number)\n",
    "\n",
    "\n",
    "\n",
    "for i in range(split_number):\n",
    "    start = time()\n",
    "    cc = data_split[i]\n",
    "\n",
    "    norm_matrix = []\n",
    "    start = time()\n",
    "    result_mat=[]\n",
    "    result_arr = []\n",
    "    for j in cc:\n",
    "        sup=image_stack_matrix(j)\n",
    "        result_mat.append(sup[0])\n",
    "        result_arr.append(sup[1])\n",
    "       \n",
    "    result_mat = np.array(result_mat)\n",
    "    result_arr = np.array(result_arr)\n",
    "\n",
    "    cc_mat = []\n",
    "    cc_arr = []\n",
    "    for j in range(result_mat.shape[0]):\n",
    "        cc_mat.append(result_mat[j].ravel())\n",
    "        cc_arr.append(result_arr[j].ravel())\n",
    "\n",
    "    # save as txt file\n",
    "    np.savetxt('data_stack_image/disease_SB_svd_zenedo_im' + '_'+str(i) + '.txt',cc_mat)\n",
    "    np.savetxt('data_stack_signal/disease_SB_svd_zenedo_si' + '_'+str(i) + '.txt',cc_arr)\n",
    "    end=time()\n",
    "    print(f'Time taken for {i}th iteration is {end-start}')\n",
    "\n",
    "del data_SB\n",
    "\n"
   ]
  },
  {
   "cell_type": "code",
   "execution_count": 11,
   "metadata": {},
   "outputs": [
    {
     "name": "stdout",
     "output_type": "stream",
     "text": [
      "Time taken for 0th iteration is 150.2462875843048\n",
      "Time taken for 1th iteration is 167.55790734291077\n",
      "Time taken for 2th iteration is 149.31303071975708\n",
      "Time taken for 3th iteration is 150.92197632789612\n",
      "Time taken for 4th iteration is 150.30638027191162\n",
      "Time taken for 5th iteration is 152.3575701713562\n",
      "Time taken for 6th iteration is 153.17096424102783\n",
      "Time taken for 7th iteration is 152.78227257728577\n",
      "Time taken for 8th iteration is 147.54838514328003\n",
      "Time taken for 9th iteration is 153.29408431053162\n"
     ]
    }
   ],
   "source": [
    "data_ST = np.load('data_ST.npy')\n",
    "data= random_choice(data_ST)\n",
    "split_number = 10\n",
    "if len(data)%split_number == 0:\n",
    "    data_split = np.array_split(data,split_number)\n",
    "\n",
    "\n",
    "\n",
    "for i in range(split_number):\n",
    "    start = time()\n",
    "    cc = data_split[i]\n",
    "\n",
    "    norm_matrix = []\n",
    "    start = time()\n",
    "    result_mat=[]\n",
    "    result_arr = []\n",
    "    for j in cc:\n",
    "        sup=image_stack_matrix(j)\n",
    "        result_mat.append(sup[0])\n",
    "        result_arr.append(sup[1])\n",
    "       \n",
    "    result_mat = np.array(result_mat)\n",
    "    result_arr = np.array(result_arr)\n",
    "\n",
    "    cc_mat = []\n",
    "    cc_arr = []\n",
    "    for j in range(result_mat.shape[0]):\n",
    "        cc_mat.append(result_mat[j].ravel())\n",
    "        cc_arr.append(result_arr[j].ravel())\n",
    "\n",
    "    # save as txt file\n",
    "    np.savetxt('data_stack_image/disease_ST_svd_zenedo_im' + '_'+str(i) + '.txt',cc_mat)\n",
    "    np.savetxt('data_stack_signal/disease_ST_svd_zenedo_si' + '_'+str(i) + '.txt',cc_arr)\n",
    "    end=time()\n",
    "    print(f'Time taken for {i}th iteration is {end-start}')\n",
    "\n",
    "del data_ST\n",
    "\n"
   ]
  },
  {
   "cell_type": "code",
   "execution_count": 12,
   "metadata": {},
   "outputs": [
    {
     "name": "stdout",
     "output_type": "stream",
     "text": [
      "Time taken for 0th iteration is 150.45360207557678\n",
      "Time taken for 1th iteration is 150.72840476036072\n",
      "Time taken for 2th iteration is 171.54330015182495\n",
      "Time taken for 3th iteration is 149.1977081298828\n",
      "Time taken for 4th iteration is 152.18426728248596\n",
      "Time taken for 5th iteration is 151.07877826690674\n",
      "Time taken for 6th iteration is 153.03900623321533\n",
      "Time taken for 7th iteration is 148.5309557914734\n",
      "Time taken for 8th iteration is 152.5982632637024\n",
      "Time taken for 9th iteration is 147.3047912120819\n"
     ]
    }
   ],
   "source": [
    "data_AF = np.load('data_AF.npy')\n",
    "data= random_choice(data_AF)\n",
    "split_number = 10\n",
    "if len(data)%split_number == 0:\n",
    "    data_split = np.array_split(data,split_number)\n",
    "\n",
    "\n",
    "\n",
    "for i in range(split_number):\n",
    "    start = time()\n",
    "    cc = data_split[i]\n",
    "\n",
    "    norm_matrix = []\n",
    "    start = time()\n",
    "    result_mat=[]\n",
    "    result_arr = []\n",
    "    for j in cc:\n",
    "        sup=image_stack_matrix(j)\n",
    "        result_mat.append(sup[0])\n",
    "        result_arr.append(sup[1])\n",
    "       \n",
    "    result_mat = np.array(result_mat)\n",
    "    result_arr = np.array(result_arr)\n",
    "\n",
    "    cc_mat = []\n",
    "    cc_arr = []\n",
    "    for j in range(result_mat.shape[0]):\n",
    "        cc_mat.append(result_mat[j].ravel())\n",
    "        cc_arr.append(result_arr[j].ravel())\n",
    "\n",
    "    # save as txt file\n",
    "    np.savetxt('data_stack_image/disease_AF_svd_zenedo_im' + '_'+str(i) + '.txt',cc_mat)\n",
    "    np.savetxt('data_stack_signal/disease_AF_svd_zenedo_si' + '_'+str(i) + '.txt',cc_arr)\n",
    "    end=time()\n",
    "    print(f'Time taken for {i}th iteration is {end-start}')\n",
    "\n",
    "del data_AF\n",
    "\n"
   ]
  },
  {
   "cell_type": "code",
   "execution_count": 13,
   "metadata": {},
   "outputs": [
    {
     "name": "stdout",
     "output_type": "stream",
     "text": [
      "Time taken for 0th iteration is 173.33997774124146\n",
      "Time taken for 1th iteration is 148.7154142856598\n",
      "Time taken for 2th iteration is 152.89436149597168\n",
      "Time taken for 3th iteration is 154.01381182670593\n",
      "Time taken for 4th iteration is 153.50838136672974\n",
      "Time taken for 5th iteration is 154.67919874191284\n",
      "Time taken for 6th iteration is 154.9485104084015\n",
      "Time taken for 7th iteration is 150.17014050483704\n",
      "Time taken for 8th iteration is 153.61062455177307\n",
      "Time taken for 9th iteration is 149.08384132385254\n"
     ]
    },
    {
     "ename": "NameError",
     "evalue": "name 'data_SB' is not defined",
     "output_type": "error",
     "traceback": [
      "\u001b[1;31m---------------------------------------------------------------------------\u001b[0m",
      "\u001b[1;31mNameError\u001b[0m                                 Traceback (most recent call last)",
      "Cell \u001b[1;32mIn[13], line 37\u001b[0m\n\u001b[0;32m     34\u001b[0m     end\u001b[38;5;241m=\u001b[39mtime()\n\u001b[0;32m     35\u001b[0m     \u001b[38;5;28mprint\u001b[39m(\u001b[38;5;124mf\u001b[39m\u001b[38;5;124m'\u001b[39m\u001b[38;5;124mTime taken for \u001b[39m\u001b[38;5;132;01m{\u001b[39;00mi\u001b[38;5;132;01m}\u001b[39;00m\u001b[38;5;124mth iteration is \u001b[39m\u001b[38;5;132;01m{\u001b[39;00mend\u001b[38;5;241m-\u001b[39mstart\u001b[38;5;132;01m}\u001b[39;00m\u001b[38;5;124m'\u001b[39m)\n\u001b[1;32m---> 37\u001b[0m \u001b[38;5;28;01mdel\u001b[39;00m data_SB\n",
      "\u001b[1;31mNameError\u001b[0m: name 'data_SB' is not defined"
     ]
    }
   ],
   "source": [
    "data_normal = np.load('data_normal.npy')\n",
    "data= random_choice(data_normal)\n",
    "split_number = 10\n",
    "if len(data)%split_number == 0:\n",
    "    data_split = np.array_split(data,split_number)\n",
    "\n",
    "\n",
    "\n",
    "for i in range(split_number):\n",
    "    start = time()\n",
    "    cc = data_split[i]\n",
    "\n",
    "    norm_matrix = []\n",
    "    start = time()\n",
    "    result_mat=[]\n",
    "    result_arr = []\n",
    "    for j in cc:\n",
    "        sup=image_stack_matrix(j)\n",
    "        result_mat.append(sup[0])\n",
    "        result_arr.append(sup[1])\n",
    "       \n",
    "    result_mat = np.array(result_mat)\n",
    "    result_arr = np.array(result_arr)\n",
    "\n",
    "    cc_mat = []\n",
    "    cc_arr = []\n",
    "    for j in range(result_mat.shape[0]):\n",
    "        cc_mat.append(result_mat[j].ravel())\n",
    "        cc_arr.append(result_arr[j].ravel())\n",
    "\n",
    "    # save as txt file\n",
    "    np.savetxt('data_stack_image/disease_normal_svd_zenedo_im' + '_'+str(i) + '.txt',cc_mat)\n",
    "    np.savetxt('data_stack_signal/disease_normal_svd_zenedo_si' + '_'+str(i) + '.txt',cc_arr)\n",
    "    end=time()\n",
    "    print(f'Time taken for {i}th iteration is {end-start}')\n",
    "\n",
    "del data_SB\n",
    "\n"
   ]
  },
  {
   "cell_type": "code",
   "execution_count": null,
   "metadata": {},
   "outputs": [],
   "source": []
  }
 ],
 "metadata": {
  "kernelspec": {
   "display_name": "base",
   "language": "python",
   "name": "python3"
  },
  "language_info": {
   "codemirror_mode": {
    "name": "ipython",
    "version": 3
   },
   "file_extension": ".py",
   "mimetype": "text/x-python",
   "name": "python",
   "nbconvert_exporter": "python",
   "pygments_lexer": "ipython3",
   "version": "3.11.7"
  }
 },
 "nbformat": 4,
 "nbformat_minor": 2
}
