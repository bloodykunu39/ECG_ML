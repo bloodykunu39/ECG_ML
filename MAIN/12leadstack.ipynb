{
 "cells": [
  {
   "cell_type": "code",
   "execution_count": 1,
   "metadata": {},
   "outputs": [],
   "source": [
    "import torch\n",
    "import numpy as np\n",
    "import sys\n",
    "import os\n",
    "\n",
    "\n",
    "from dataloader import MyCustomDataset\n",
    "from torch.utils.data import DataLoader\n",
    "\n",
    "import torch.nn as nn\n",
    "import torch.optim as optim\n",
    "\n",
    "\n",
    "from model_nn import  Model\n",
    "from sklearn.model_selection import train_test_split\n",
    "import matplotlib.pyplot as plt\n"
   ]
  },
  {
   "cell_type": "code",
   "execution_count": 2,
   "metadata": {},
   "outputs": [],
   "source": [
    "import numpy as np\n",
    "\n",
    "# Load the NumPy arrays\n",
    "disease_SB = np.load('/home/karansingh/Documents/summer-term/KARAN_ECG/data_prep/disease_SB.npy')\n",
    "disease_SR = np.load('/home/karansingh/Documents/summer-term/KARAN_ECG/data_prep/disease_SR.npy')\n",
    "disease_ST = np.load('/home/karansingh/Documents/summer-term/KARAN_ECG/data_prep/disease_ST.npy')\n",
    "\n"
   ]
  },
  {
   "cell_type": "code",
   "execution_count": 3,
   "metadata": {},
   "outputs": [],
   "source": [
    "disease_SB=disease_SB.reshape(5000,60000)\n",
    "disease_SR=disease_SR.reshape(5000,60000)\n",
    "disease_ST=disease_ST.reshape(5000,60000)\n"
   ]
  },
  {
   "cell_type": "code",
   "execution_count": 4,
   "metadata": {},
   "outputs": [],
   "source": [
    "# convert nan to zero\n",
    "disease_SB = np.nan_to_num(disease_SB)\n",
    "disease_SR = np.nan_to_num(disease_SR)\n",
    "disease_ST = np.nan_to_num(disease_ST)\n"
   ]
  },
  {
   "cell_type": "code",
   "execution_count": 5,
   "metadata": {},
   "outputs": [
    {
     "data": {
      "text/plain": [
       "(15000,)"
      ]
     },
     "execution_count": 5,
     "metadata": {},
     "output_type": "execute_result"
    }
   ],
   "source": [
    "images = np.concatenate((disease_SB, disease_SR, disease_ST))\n",
    "labels = np.concatenate((np.zeros(disease_SB.shape[0]), np.ones(disease_SR.shape[0]), np.ones(disease_ST.shape[0])*2))\n",
    "labels.shape"
   ]
  },
  {
   "cell_type": "code",
   "execution_count": 6,
   "metadata": {},
   "outputs": [],
   "source": [
    "images_train, images_test, labels_train, labels_test = train_test_split(images, labels, test_size=0.2, random_state=42)\n",
    "train_dataset = MyCustomDataset(images_train, labels_train)\n",
    "test_dataset = MyCustomDataset(images_test, labels_test)\n",
    "# Define a DataLoader\n",
    "train_dataloader = DataLoader(train_dataset, batch_size=32, shuffle=True)\n",
    "test_dataloader = DataLoader(test_dataset, batch_size=32, shuffle=False)"
   ]
  },
  {
   "cell_type": "code",
   "execution_count": 7,
   "metadata": {},
   "outputs": [],
   "source": [
    "class Model(nn.Module):\n",
    "    \"\"\"Base model with 5 layers\"\"\"\n",
    "    def __init__(self, in_features=60000, h1=2048, h2=512,\n",
    "                 h3=264, h4=68, h5=16,\n",
    "                 out_features=3):\n",
    "        \"\"\"Initialize an instance of the model\"\"\"\n",
    "        super().__init__()\n",
    "        self.fc1 = nn.Linear(in_features, h1)\n",
    "        self.fc2 = nn.Linear(h1, h2)\n",
    "        self.fc3 = nn.Linear(h2, h3)\n",
    "        self.fc4 = nn.Linear(h3, h4)\n",
    "        self.fc5 = nn.Linear(h4, h5)\n",
    "        self.out = nn.Linear(h5, out_features)\n",
    "\n",
    "    def forward(self, x):\n",
    "        \"\"\"Forward method for the layers in the model\"\"\"\n",
    "        # Using softmax in the output layer\n",
    "        x = F.relu(self.fc1(x))\n",
    "        x = F.relu(self.fc2(x))\n",
    "        x = F.relu(self.fc3(x))\n",
    "        x = F.relu(self.fc4(x))\n",
    "        x = F.relu(self.fc5(x))\n",
    "        x = self.out(x)\n",
    "        return x\n"
   ]
  },
  {
   "cell_type": "code",
   "execution_count": 8,
   "metadata": {},
   "outputs": [
    {
     "name": "stdout",
     "output_type": "stream",
     "text": [
      "Memory Allocated: 0.00 MiB\n",
      "Memory Reserved: 0.00 MiB\n"
     ]
    }
   ],
   "source": [
    "import torch\n",
    "device = torch.device(\"cuda:0\" if torch.cuda.is_available() else \"cpu\")\n",
    "\n",
    "\n",
    "# Print the memory usage\n",
    "def print_memory_usage():\n",
    "    allocated = torch.cuda.memory_allocated(device) / (1024 ** 2)\n",
    "    reserved = torch.cuda.memory_reserved(device) / (1024 ** 2)\n",
    "    print(f\"Memory Allocated: {allocated:.2f} MiB\")\n",
    "    print(f\"Memory Reserved: {reserved:.2f} MiB\")\n",
    "\n",
    "# Example usage\n",
    "print_memory_usage()"
   ]
  },
  {
   "cell_type": "code",
   "execution_count": 9,
   "metadata": {},
   "outputs": [],
   "source": [
    "# emputy the cache\n",
    "torch.cuda.empty_cache()"
   ]
  },
  {
   "cell_type": "code",
   "execution_count": 10,
   "metadata": {},
   "outputs": [
    {
     "name": "stdout",
     "output_type": "stream",
     "text": [
      "Epoch [1/25], Train Loss: 0.7018, Test Loss: 0.5102, Train Accuracy: 70.0917, Test Accuracy: 81.8041\n",
      "Epoch [2/25], Train Loss: 0.3445, Test Loss: 0.5115, Train Accuracy: 87.8083, Test Accuracy: 82.4357\n",
      "Epoch [3/25], Train Loss: 0.1874, Test Loss: 0.5765, Train Accuracy: 93.9333, Test Accuracy: 82.7017\n",
      "Epoch [4/25], Train Loss: 0.1005, Test Loss: 0.7880, Train Accuracy: 96.6750, Test Accuracy: 82.2252\n",
      "Epoch [5/25], Train Loss: 0.1128, Test Loss: 0.7401, Train Accuracy: 96.6667, Test Accuracy: 82.0479\n",
      "Epoch [6/25], Train Loss: 0.0814, Test Loss: 1.0995, Train Accuracy: 97.7750, Test Accuracy: 83.0230\n",
      "Epoch [7/25], Train Loss: 0.0592, Test Loss: 1.0086, Train Accuracy: 98.3917, Test Accuracy: 82.3692\n",
      "Epoch [8/25], Train Loss: 0.0687, Test Loss: 0.9838, Train Accuracy: 97.9667, Test Accuracy: 82.0368\n",
      "Epoch [9/25], Train Loss: 0.0282, Test Loss: 1.1739, Train Accuracy: 99.1667, Test Accuracy: 81.7154\n",
      "Epoch [10/25], Train Loss: 0.0579, Test Loss: 0.9897, Train Accuracy: 98.7500, Test Accuracy: 82.3249\n",
      "Epoch [11/25], Train Loss: 0.0556, Test Loss: 0.8904, Train Accuracy: 98.6667, Test Accuracy: 82.4025\n",
      "Epoch [12/25], Train Loss: 0.0506, Test Loss: 1.0805, Train Accuracy: 98.6917, Test Accuracy: 82.8457\n",
      "Epoch [13/25], Train Loss: 0.0503, Test Loss: 1.1114, Train Accuracy: 98.9667, Test Accuracy: 81.3719\n",
      "Epoch [14/25], Train Loss: 0.0628, Test Loss: 0.8640, Train Accuracy: 98.7667, Test Accuracy: 82.3582\n",
      "Epoch [15/25], Train Loss: 0.0379, Test Loss: 1.1360, Train Accuracy: 99.0583, Test Accuracy: 82.2141\n",
      "Epoch [16/25], Train Loss: 0.0216, Test Loss: 1.1873, Train Accuracy: 99.5500, Test Accuracy: 82.8790\n",
      "Epoch [17/25], Train Loss: 0.0289, Test Loss: 1.0581, Train Accuracy: 99.3167, Test Accuracy: 82.0811\n",
      "Epoch [18/25], Train Loss: 0.0165, Test Loss: 1.3704, Train Accuracy: 99.5917, Test Accuracy: 81.7265\n",
      "Epoch [19/25], Train Loss: 0.0243, Test Loss: 1.0018, Train Accuracy: 99.3917, Test Accuracy: 81.8262\n",
      "Epoch [20/25], Train Loss: 0.0233, Test Loss: 1.1101, Train Accuracy: 99.5250, Test Accuracy: 82.6574\n",
      "Epoch [21/25], Train Loss: 0.0067, Test Loss: 1.5582, Train Accuracy: 99.7500, Test Accuracy: 82.7017\n",
      "Epoch [22/25], Train Loss: 0.0226, Test Loss: 1.4582, Train Accuracy: 99.4833, Test Accuracy: 82.3803\n",
      "Epoch [23/25], Train Loss: 0.0166, Test Loss: 1.6141, Train Accuracy: 99.6083, Test Accuracy: 82.0479\n",
      "Epoch [24/25], Train Loss: 0.0280, Test Loss: 2.0047, Train Accuracy: 99.4167, Test Accuracy: 83.0785\n",
      "Epoch [25/25], Train Loss: 0.0277, Test Loss: 1.3307, Train Accuracy: 99.5250, Test Accuracy: 82.1144\n"
     ]
    }
   ],
   "source": [
    "#orignal\n",
    "import torch.nn.functional as F\n",
    "torch.manual_seed(42)  # Set seed for reproducibility\n",
    "device = torch.device(\"cuda:0\" if torch.cuda.is_available() else \"cpu\")\n",
    "\n",
    "model__ = Model().to(device)\n",
    "\n",
    "criterion = nn.CrossEntropyLoss()  # Cross-entropy loss for classification\n",
    "optimizer = optim.Adam(model__.parameters(), lr=0.001)  # Adam optimizer with learning rate of 0.001  \n",
    "def accuracy(y_true, y_pred):\n",
    "    correct = torch.eq(y_true, y_pred).sum().item()\n",
    "    acc = (correct / len(y_pred)) * 100\n",
    "    return acc\n",
    "\n",
    "num_epochs = 25\n",
    "test_losses_list = []\n",
    "train_losses_list = []\n",
    "accuracy_train_list = []\n",
    "accuracy_test_list = []\n",
    "\n",
    "for epoch in range(num_epochs):\n",
    "    model__.train()\n",
    "    running_loss, accuracy_train = 0.0, 0.0\n",
    "    for i, (images, labels) in enumerate(train_dataloader):\n",
    "        images, labels = images.to(device), labels.to(device)  # Move data to GPU\n",
    "        outputs = model__(images)\n",
    "        loss = criterion(outputs, labels)\n",
    "        \n",
    "        # Backward pass and optimization\n",
    "        optimizer.zero_grad()\n",
    "        loss.backward()\n",
    "        optimizer.step()\n",
    "        running_loss += loss.item()\n",
    "        accuracy_train += accuracy(labels, outputs.argmax(dim=1))\n",
    "    train_losses_list.append(running_loss / len(train_dataloader))\n",
    "    \n",
    "    # Just calculating the test loss and accuracy\n",
    "    with torch.no_grad():\n",
    "        model__.eval()\n",
    "        test_loss, accuracy_test = 0.0, 0.0\n",
    "        for i, (images, labels) in enumerate(test_dataloader):\n",
    "            images, labels = images.to(device), labels.to(device)  # Move data to GPU\n",
    "            outputs = model__(images)\n",
    "            loss = criterion(outputs, labels)\n",
    "            test_loss += loss.item()\n",
    "            accuracy_test += accuracy(labels, outputs.argmax(dim=1))\n",
    "    test_losses_list.append(test_loss / len(test_dataloader))\n",
    "    \n",
    "    accuracy_train_list.append(accuracy_train / len(train_dataloader))\n",
    "    accuracy_test_list.append(accuracy_test / len(test_dataloader))\n",
    "\n",
    "    print(f'Epoch [{epoch+1}/{num_epochs}], Train Loss: {running_loss / len(train_dataloader):.4f}, Test Loss: {test_loss / len(test_dataloader):.4f}, Train Accuracy: {accuracy_train / len(train_dataloader):.4f}, Test Accuracy: {accuracy_test / len(test_dataloader):.4f}')"
   ]
  }
 ],
 "metadata": {
  "kernelspec": {
   "display_name": "Python 3",
   "language": "python",
   "name": "python3"
  },
  "language_info": {
   "codemirror_mode": {
    "name": "ipython",
    "version": 3
   },
   "file_extension": ".py",
   "mimetype": "text/x-python",
   "name": "python",
   "nbconvert_exporter": "python",
   "pygments_lexer": "ipython3",
   "version": "3.10.12"
  }
 },
 "nbformat": 4,
 "nbformat_minor": 2
}
