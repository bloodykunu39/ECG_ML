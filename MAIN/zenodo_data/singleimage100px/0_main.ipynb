{
 "cells": [
  {
   "cell_type": "code",
   "execution_count": 1,
   "metadata": {},
   "outputs": [],
   "source": [
    "import torch\n",
    "import numpy as np\n",
    "import sys\n",
    "import os\n",
    "\n",
    "main_dir = r'D:\\LARGE_CNN\\ECG_ML\\MAIN'\n",
    "if main_dir not in sys.path:\n",
    "    sys.path.append(main_dir)\n",
    "from dataloader import MyCustomDataset\n",
    "from torch.utils.data import DataLoader\n",
    "\n",
    "import torch.nn as nn\n",
    "import torch.optim as optim\n",
    "\n",
    "\n",
    "from model_nn import  Model\n",
    "from sklearn.model_selection import train_test_split\n",
    "import matplotlib.pyplot as plt\n",
    "from time import time"
   ]
  },
  {
   "cell_type": "code",
   "execution_count": 2,
   "metadata": {},
   "outputs": [
    {
     "data": {
      "text/plain": [
       "['0_main.ipynb',\n",
       " 'data_1dAVB_single_image_100px_0.txt',\n",
       " 'data_1dAVB_single_image_100px_1.txt',\n",
       " 'data_1dAVB_single_image_100px_2.txt',\n",
       " 'data_1dAVB_single_image_100px_3.txt',\n",
       " 'data_1dAVB_single_image_100px_4.txt',\n",
       " 'data_1dAVB_single_image_100px_5.txt',\n",
       " 'data_1dAVB_single_image_100px_6.txt',\n",
       " 'data_1dAVB_single_image_100px_7.txt',\n",
       " 'data_1dAVB_single_image_100px_8.txt',\n",
       " 'data_1dAVB_single_image_100px_9.txt',\n",
       " 'data_AF_single_image_100px_0.txt',\n",
       " 'data_AF_single_image_100px_1.txt',\n",
       " 'data_AF_single_image_100px_2.txt',\n",
       " 'data_AF_single_image_100px_3.txt',\n",
       " 'data_AF_single_image_100px_4.txt',\n",
       " 'data_AF_single_image_100px_5.txt',\n",
       " 'data_AF_single_image_100px_6.txt',\n",
       " 'data_AF_single_image_100px_7.txt',\n",
       " 'data_AF_single_image_100px_8.txt',\n",
       " 'data_AF_single_image_100px_9.txt',\n",
       " 'data_LBBB_single_image_100px_0.txt',\n",
       " 'data_LBBB_single_image_100px_1.txt',\n",
       " 'data_LBBB_single_image_100px_2.txt',\n",
       " 'data_LBBB_single_image_100px_3.txt',\n",
       " 'data_LBBB_single_image_100px_4.txt',\n",
       " 'data_LBBB_single_image_100px_5.txt',\n",
       " 'data_LBBB_single_image_100px_6.txt',\n",
       " 'data_LBBB_single_image_100px_7.txt',\n",
       " 'data_LBBB_single_image_100px_8.txt',\n",
       " 'data_LBBB_single_image_100px_9.txt',\n",
       " 'data_normal_single_image_100px_0.txt',\n",
       " 'data_normal_single_image_100px_1.txt',\n",
       " 'data_normal_single_image_100px_2.txt',\n",
       " 'data_normal_single_image_100px_3.txt',\n",
       " 'data_normal_single_image_100px_4.txt',\n",
       " 'data_normal_single_image_100px_5.txt',\n",
       " 'data_normal_single_image_100px_6.txt',\n",
       " 'data_normal_single_image_100px_7.txt',\n",
       " 'data_normal_single_image_100px_8.txt',\n",
       " 'data_normal_single_image_100px_9.txt',\n",
       " 'data_RBBB_single_image_100px_0.txt',\n",
       " 'data_RBBB_single_image_100px_1.txt',\n",
       " 'data_RBBB_single_image_100px_2.txt',\n",
       " 'data_RBBB_single_image_100px_3.txt',\n",
       " 'data_RBBB_single_image_100px_4.txt',\n",
       " 'data_RBBB_single_image_100px_5.txt',\n",
       " 'data_RBBB_single_image_100px_6.txt',\n",
       " 'data_RBBB_single_image_100px_7.txt',\n",
       " 'data_RBBB_single_image_100px_8.txt',\n",
       " 'data_RBBB_single_image_100px_9.txt',\n",
       " 'data_SB_single_image_100px_0.txt',\n",
       " 'data_SB_single_image_100px_1.txt',\n",
       " 'data_SB_single_image_100px_2.txt',\n",
       " 'data_SB_single_image_100px_3.txt',\n",
       " 'data_SB_single_image_100px_4.txt',\n",
       " 'data_SB_single_image_100px_5.txt',\n",
       " 'data_SB_single_image_100px_6.txt',\n",
       " 'data_SB_single_image_100px_7.txt',\n",
       " 'data_SB_single_image_100px_8.txt',\n",
       " 'data_SB_single_image_100px_9.txt',\n",
       " 'data_ST_single_image_100px_0.txt',\n",
       " 'data_ST_single_image_100px_1.txt',\n",
       " 'data_ST_single_image_100px_2.txt',\n",
       " 'data_ST_single_image_100px_3.txt',\n",
       " 'data_ST_single_image_100px_4.txt',\n",
       " 'data_ST_single_image_100px_5.txt',\n",
       " 'data_ST_single_image_100px_6.txt',\n",
       " 'data_ST_single_image_100px_7.txt',\n",
       " 'data_ST_single_image_100px_8.txt',\n",
       " 'data_ST_single_image_100px_9.txt']"
      ]
     },
     "execution_count": 2,
     "metadata": {},
     "output_type": "execute_result"
    }
   ],
   "source": [
    "os.listdir()"
   ]
  },
  {
   "cell_type": "code",
   "execution_count": 3,
   "metadata": {},
   "outputs": [
    {
     "name": "stdout",
     "output_type": "stream",
     "text": [
      "data 1dAVB of length 500 and shape (500, 10000)in 0 index loaded\n",
      "data 1dAVB of length 500 and shape (500, 10000)in 1 index loaded\n",
      "data 1dAVB of length 500 and shape (500, 10000)in 2 index loaded\n",
      "data 1dAVB of length 500 and shape (500, 10000)in 3 index loaded\n",
      "data 1dAVB of length 500 and shape (500, 10000)in 4 index loaded\n",
      "data 1dAVB of length 500 and shape (500, 10000)in 5 index loaded\n",
      "data 1dAVB of length 500 and shape (500, 10000)in 6 index loaded\n",
      "data 1dAVB of length 500 and shape (500, 10000)in 7 index loaded\n",
      "data 1dAVB of length 500 and shape (500, 10000)in 8 index loaded\n",
      "data 1dAVB of length 500 and shape (500, 10000)in 9 index loaded\n",
      "1dAVB data loaded in -14.579084873199463\n",
      "data AF of length 500 and shape (500, 10000)in 0 index loaded\n",
      "data AF of length 500 and shape (500, 10000)in 1 index loaded\n",
      "data AF of length 500 and shape (500, 10000)in 2 index loaded\n",
      "data AF of length 500 and shape (500, 10000)in 3 index loaded\n",
      "data AF of length 500 and shape (500, 10000)in 4 index loaded\n",
      "data AF of length 500 and shape (500, 10000)in 5 index loaded\n",
      "data AF of length 500 and shape (500, 10000)in 6 index loaded\n",
      "data AF of length 500 and shape (500, 10000)in 7 index loaded\n",
      "data AF of length 500 and shape (500, 10000)in 8 index loaded\n",
      "data AF of length 500 and shape (500, 10000)in 9 index loaded\n",
      "AF data loaded in -14.693756818771362\n",
      "data LBBB of length 500 and shape (500, 10000)in 0 index loaded\n",
      "data LBBB of length 500 and shape (500, 10000)in 1 index loaded\n",
      "data LBBB of length 500 and shape (500, 10000)in 2 index loaded\n",
      "data LBBB of length 500 and shape (500, 10000)in 3 index loaded\n",
      "data LBBB of length 500 and shape (500, 10000)in 4 index loaded\n",
      "data LBBB of length 500 and shape (500, 10000)in 5 index loaded\n",
      "data LBBB of length 500 and shape (500, 10000)in 6 index loaded\n",
      "data LBBB of length 500 and shape (500, 10000)in 7 index loaded\n",
      "data LBBB of length 500 and shape (500, 10000)in 8 index loaded\n",
      "data LBBB of length 500 and shape (500, 10000)in 9 index loaded\n",
      "LBBB data loaded in -14.351877450942993\n",
      "data Normal of length 500 and shape (500, 10000)in 0 index loaded\n",
      "data Normal of length 500 and shape (500, 10000)in 1 index loaded\n",
      "data Normal of length 500 and shape (500, 10000)in 2 index loaded\n",
      "data Normal of length 500 and shape (500, 10000)in 3 index loaded\n",
      "data Normal of length 500 and shape (500, 10000)in 4 index loaded\n",
      "data Normal of length 500 and shape (500, 10000)in 5 index loaded\n",
      "data Normal of length 500 and shape (500, 10000)in 6 index loaded\n",
      "data Normal of length 500 and shape (500, 10000)in 7 index loaded\n",
      "data Normal of length 500 and shape (500, 10000)in 8 index loaded\n",
      "data Normal of length 500 and shape (500, 10000)in 9 index loaded\n",
      "Normal data loaded in -14.315935850143433\n",
      "data RBBB of length 500 and shape (500, 10000)in 0 index loaded\n",
      "data RBBB of length 500 and shape (500, 10000)in 1 index loaded\n",
      "data RBBB of length 500 and shape (500, 10000)in 2 index loaded\n",
      "data RBBB of length 500 and shape (500, 10000)in 3 index loaded\n",
      "data RBBB of length 500 and shape (500, 10000)in 4 index loaded\n",
      "data RBBB of length 500 and shape (500, 10000)in 5 index loaded\n",
      "data RBBB of length 500 and shape (500, 10000)in 6 index loaded\n",
      "data RBBB of length 500 and shape (500, 10000)in 7 index loaded\n",
      "data RBBB of length 500 and shape (500, 10000)in 8 index loaded\n",
      "data RBBB of length 500 and shape (500, 10000)in 9 index loaded\n",
      "RBBB data loaded in -14.446825504302979\n",
      "data ST of length 500 and shape (500, 10000)in 0 index loaded\n",
      "data ST of length 500 and shape (500, 10000)in 1 index loaded\n",
      "data ST of length 500 and shape (500, 10000)in 2 index loaded\n",
      "data ST of length 500 and shape (500, 10000)in 3 index loaded\n",
      "data ST of length 500 and shape (500, 10000)in 4 index loaded\n",
      "data ST of length 500 and shape (500, 10000)in 5 index loaded\n",
      "data ST of length 500 and shape (500, 10000)in 6 index loaded\n",
      "data ST of length 500 and shape (500, 10000)in 7 index loaded\n",
      "data ST of length 500 and shape (500, 10000)in 8 index loaded\n",
      "data ST of length 500 and shape (500, 10000)in 9 index loaded\n",
      "ST data loaded in -14.44393277168274\n",
      "data SB of length 500 and shape (500, 10000)in 0 index loaded\n",
      "data SB of length 500 and shape (500, 10000)in 1 index loaded\n",
      "data SB of length 500 and shape (500, 10000)in 2 index loaded\n",
      "data SB of length 500 and shape (500, 10000)in 3 index loaded\n",
      "data SB of length 500 and shape (500, 10000)in 4 index loaded\n",
      "data SB of length 500 and shape (500, 10000)in 5 index loaded\n",
      "data SB of length 500 and shape (500, 10000)in 6 index loaded\n",
      "data SB of length 500 and shape (500, 10000)in 7 index loaded\n",
      "data SB of length 500 and shape (500, 10000)in 8 index loaded\n",
      "data SB of length 500 and shape (500, 10000)in 9 index loaded\n"
     ]
    }
   ],
   "source": [
    "data_1dAVB_list=[]\n",
    "start=time()\n",
    "for i in range(10):\n",
    "    cc = np.loadtxt('data_1dAVB_single_image_100px_'+str(i)+'.txt')  # 'data_1dAVB_single_image_100px_0.txt',\n",
    "\n",
    "    data_1dAVB_list.append(cc)\n",
    "    print(f\"data 1dAVB of length {len(cc)} and shape {cc.shape}in {i} index loaded\")\n",
    "data_1dAVB_list=np.reshape(data_1dAVB_list,(5000,100,100))\n",
    "print(f\"1dAVB data loaded in {start-time()}\")\n",
    "\n",
    "# AF\n",
    "\n",
    "data_AF_list=[]\n",
    "start=time()\n",
    "for i in range(10):\n",
    "    cc = np.loadtxt('data_AF_single_image_100px_'+str(i)+'.txt')\n",
    "\n",
    "    data_AF_list.append(cc)\n",
    "    print(f\"data AF of length {len(cc)} and shape {cc.shape}in {i} index loaded\")\n",
    "data_AF_list=np.reshape(data_AF_list,(5000,100,100))    \n",
    "print(f\"AF data loaded in {start-time()}\")\n",
    "\n",
    "# data_LBBB_single_image_100px_0\n",
    "data_LBBB_list=[]\n",
    "start=time()\n",
    "for i in range(10):\n",
    "    cc = np.loadtxt('data_LBBB_single_image_100px_'+str(i)+'.txt')\n",
    "    data_LBBB_list.append(cc)\n",
    "    print(f\"data LBBB of length {len(cc)} and shape {cc.shape}in {i} index loaded\")\n",
    "data_LBBB_list=np.reshape(data_LBBB_list,(5000,100,100))\n",
    "print(f\"LBBB data loaded in {start-time()}\")\n",
    "\n",
    "# data_normal_single_image_100px_0\n",
    "data_normal_list=[]\n",
    "start=time()\n",
    "for i in range(10):\n",
    "    cc = np.loadtxt('data_normal_single_image_100px_'+str(i)+'.txt')\n",
    "    data_normal_list.append(cc)\n",
    "    print(f\"data Normal of length {len(cc)} and shape {cc.shape}in {i} index loaded\")\n",
    "data_normal_list=np.reshape(data_normal_list,(5000,100,100))\n",
    "print(f\"Normal data loaded in {start-time()}\")\n",
    "\n",
    "# data_RBBB_single_image_100px_0\n",
    "data_RBBB_list=[]\n",
    "start=time()\n",
    "for i in range(10):\n",
    "    cc = np.loadtxt('data_RBBB_single_image_100px_'+str(i)+'.txt')\n",
    "    data_RBBB_list.append(cc)\n",
    "    print(f\"data RBBB of length {len(cc)} and shape {cc.shape}in {i} index loaded\")\n",
    "data_RBBB_list=np.reshape(data_RBBB_list,(5000,100,100))\n",
    "print(f\"RBBB data loaded in {start-time()}\")\n",
    "\n",
    "\n",
    "# data_ST_single_image_100px_0\n",
    "data_ST_list=[]\n",
    "start=time()\n",
    "for i in range(10):\n",
    "    cc = np.loadtxt('data_ST_single_image_100px_'+str(i)+'.txt')\n",
    "    data_ST_list.append(cc)\n",
    "    print(f\"data ST of length {len(cc)} and shape {cc.shape}in {i} index loaded\")\n",
    "data_ST_list=np.reshape(data_ST_list,(5000,100,100))\n",
    "print(f\"ST data loaded in {start-time()}\")\n",
    "\n",
    "\n",
    "\n",
    "#data_SB_single_image_100px_0.txt\n",
    "data_SB_list=[]\n",
    "start=time()\n",
    "for i in range(10):\n",
    "    cc = np.loadtxt('data_SB_single_image_100px_'+str(i)+'.txt')\n",
    "    data_SB_list.append(cc)\n",
    "    print(f\"data SB of length {len(cc)} and shape {cc.shape}in {i} index loaded\")\n",
    "data_SB_list=np.reshape(data_SB_list,(5000,100,100))\n",
    "\n",
    "\n",
    "\n",
    "\n",
    "\n",
    "\n"
   ]
  },
  {
   "cell_type": "code",
   "execution_count": 4,
   "metadata": {},
   "outputs": [
    {
     "data": {
      "text/plain": [
       "(5000, 100, 100)"
      ]
     },
     "execution_count": 4,
     "metadata": {},
     "output_type": "execute_result"
    }
   ],
   "source": [
    "data_SB_list.shape"
   ]
  },
  {
   "cell_type": "markdown",
   "metadata": {},
   "source": []
  },
  {
   "cell_type": "code",
   "execution_count": 5,
   "metadata": {},
   "outputs": [
    {
     "name": "stdout",
     "output_type": "stream",
     "text": [
      "35000 35000\n",
      "(35000, 1, 100, 100)\n",
      "(35000,)\n"
     ]
    }
   ],
   "source": [
    "import numpy as np\n",
    "\n",
    "# Correctly concatenate the labels\n",
    "labels = np.concatenate((\n",
    "    np.zeros(5000),\n",
    "    np.ones(5000),\n",
    "    np.ones(5000) * 2,\n",
    "    np.ones(5000) * 3,\n",
    "    np.ones(5000) * 4,\n",
    "    np.ones(5000) * 5,\n",
    "    np.ones(5000) * 6\n",
    "))\n",
    "\n",
    "# Correctly concatenate the images\n",
    "images = np.concatenate((\n",
    "    data_1dAVB_list,\n",
    "    data_AF_list,\n",
    "    data_LBBB_list,\n",
    "    data_normal_list,\n",
    "    data_RBBB_list,\n",
    "    data_SB_list,\n",
    "    data_ST_list\n",
    "))\n",
    "\n",
    "# Reshape the images array\n",
    "images = images.reshape(35000, 1, 100, 100)\n",
    "\n",
    "# Print the lengths and shapes\n",
    "print(len(images), len(labels))\n",
    "print(images.shape)\n",
    "print(labels.shape)\n",
    "\n",
    "# Delete the original data arrays to free up memory\n",
    "del data_1dAVB_list, data_AF_list, data_LBBB_list, data_normal_list, data_RBBB_list, data_SB_list, data_ST_list"
   ]
  },
  {
   "cell_type": "code",
   "execution_count": 6,
   "metadata": {},
   "outputs": [],
   "source": [
    "# Create an instance of your dataset\n",
    "images_train, images_test, labels_train, labels_test = train_test_split(images, labels, test_size=0.2, random_state=42)\n",
    "del images,labels\n",
    "torch.manual_seed(52)\n",
    "train_dataset = MyCustomDataset(images_train, labels_train)\n",
    "test_dataset = MyCustomDataset(images_test, labels_test)\n",
    "del images_train, images_test, labels_train, labels_test\n",
    "# Define a DataLoader\n",
    "train_dataloader = DataLoader(train_dataset, batch_size=32, shuffle=True)\n",
    "test_dataloader = DataLoader(test_dataset, batch_size=32, shuffle=False)"
   ]
  },
  {
   "cell_type": "markdown",
   "metadata": {},
   "source": [
    "### model"
   ]
  },
  {
   "cell_type": "code",
   "execution_count": 7,
   "metadata": {},
   "outputs": [],
   "source": [
    "from model_cnn import SmallCNN\n",
    "def accuracy(y_true, y_pred):\n",
    "    correct = torch.eq(y_true, y_pred).sum().item()\n",
    "    acc = (correct / len(y_pred)) * 100\n",
    "    return acc\n"
   ]
  },
  {
   "cell_type": "code",
   "execution_count": 8,
   "metadata": {},
   "outputs": [],
   "source": [
    "import torch.nn.functional as F\n",
    "\n",
    "class SmallCNN(nn.Module):\n",
    "    def __init__(self):\n",
    "        super(SmallCNN, self).__init__()\n",
    "        \n",
    "        # Convolutional layers\n",
    "        self.conv1 = nn.Conv2d(in_channels=1, out_channels=32, kernel_size=3, stride=1, padding=1)\n",
    "        self.conv2 = nn.Conv2d(in_channels=32, out_channels=64, kernel_size=3, stride=1, padding=1)\n",
    "        self.conv3 = nn.Conv2d(in_channels=64, out_channels=128, kernel_size=3, stride=1, padding=1)\n",
    "        \n",
    "        # Batch normalization layers\n",
    "        self.bn1 = nn.BatchNorm2d(32)\n",
    "        self.bn2 = nn.BatchNorm2d(64)\n",
    "        self.bn3 = nn.BatchNorm2d(128)\n",
    "        \n",
    "        # Pooling layer\n",
    "        self.pool = nn.MaxPool2d(kernel_size=2, stride=2, padding=0)\n",
    "        \n",
    "        # Fully connected layers\n",
    "        self.fc1 = nn.Linear(128 * 12 * 12, 512)\n",
    "        self.fc2 = nn.Linear(512, 7)\n",
    "        \n",
    "        # Dropout\n",
    "        self.dropout = nn.Dropout(0.5)\n",
    "\n",
    "    def forward(self, x):\n",
    "        # Convolutional layers with ReLU, batch norm, and pooling\n",
    "        x = self.pool(F.relu(self.bn1(self.conv1(x))))  # Output: 50x50\n",
    "        x = self.pool(F.relu(self.bn2(self.conv2(x))))  # Output: 25x25\n",
    "        x = self.pool(F.relu(self.bn3(self.conv3(x))))  # Output: 12x12\n",
    "        \n",
    "        # Flatten the tensor for fully connected layers\n",
    "        x = x.view(-1, 128 * 12 * 12)\n",
    "        \n",
    "        # Fully connected layers with ReLU and dropout\n",
    "        x = F.relu(self.fc1(x))\n",
    "        x = self.dropout(x)\n",
    "        x = self.fc2(x)\n",
    "        \n",
    "        return x"
   ]
  },
  {
   "cell_type": "code",
   "execution_count": 9,
   "metadata": {},
   "outputs": [
    {
     "name": "stdout",
     "output_type": "stream",
     "text": [
      "Epoch [1/50], Train Loss: 1.5526, Test Loss: 1.2947, Train Accuracy: 39.5786, Test Accuracy: 50.7087\n",
      "Epoch [2/50], Train Loss: 1.2479, Test Loss: 1.1661, Train Accuracy: 52.2964, Test Accuracy: 56.3737\n",
      "Epoch [3/50], Train Loss: 1.1575, Test Loss: 1.1032, Train Accuracy: 56.2893, Test Accuracy: 58.1288\n",
      "Epoch [4/50], Train Loss: 1.0840, Test Loss: 1.0199, Train Accuracy: 59.5250, Test Accuracy: 62.1956\n",
      "Epoch [5/50], Train Loss: 1.0299, Test Loss: 0.9766, Train Accuracy: 61.7429, Test Accuracy: 63.2468\n",
      "Epoch [6/50], Train Loss: 0.9771, Test Loss: 0.9667, Train Accuracy: 63.7607, Test Accuracy: 63.6368\n",
      "Epoch [7/50], Train Loss: 0.9296, Test Loss: 0.9097, Train Accuracy: 65.9714, Test Accuracy: 67.0710\n",
      "Epoch [8/50], Train Loss: 0.8869, Test Loss: 0.8689, Train Accuracy: 67.7500, Test Accuracy: 69.1210\n",
      "Epoch [9/50], Train Loss: 0.8484, Test Loss: 0.8387, Train Accuracy: 69.2393, Test Accuracy: 69.7964\n",
      "Epoch [10/50], Train Loss: 0.8202, Test Loss: 0.8141, Train Accuracy: 70.1464, Test Accuracy: 70.8952\n",
      "Epoch [11/50], Train Loss: 0.7947, Test Loss: 0.7810, Train Accuracy: 71.0679, Test Accuracy: 71.8750\n",
      "Epoch [12/50], Train Loss: 0.7662, Test Loss: 0.7663, Train Accuracy: 72.3821, Test Accuracy: 72.6884\n",
      "Epoch [13/50], Train Loss: 0.7441, Test Loss: 0.7721, Train Accuracy: 73.2714, Test Accuracy: 71.1806\n",
      "Epoch [14/50], Train Loss: 0.7220, Test Loss: 0.7532, Train Accuracy: 73.8250, Test Accuracy: 72.6408\n",
      "Epoch [15/50], Train Loss: 0.7023, Test Loss: 0.8738, Train Accuracy: 74.5786, Test Accuracy: 66.1910\n",
      "Epoch [16/50], Train Loss: 0.6840, Test Loss: 0.7984, Train Accuracy: 75.3107, Test Accuracy: 70.6526\n",
      "Epoch [17/50], Train Loss: 0.6679, Test Loss: 0.7208, Train Accuracy: 76.0000, Test Accuracy: 73.6682\n",
      "Epoch [18/50], Train Loss: 0.6525, Test Loss: 0.7821, Train Accuracy: 76.6643, Test Accuracy: 71.1758\n",
      "Epoch [19/50], Train Loss: 0.6339, Test Loss: 0.7274, Train Accuracy: 77.2214, Test Accuracy: 73.5065\n",
      "Epoch [20/50], Train Loss: 0.6187, Test Loss: 0.7335, Train Accuracy: 77.7429, Test Accuracy: 73.1688\n",
      "Epoch [21/50], Train Loss: 0.6032, Test Loss: 0.7178, Train Accuracy: 78.1786, Test Accuracy: 73.5921\n",
      "Epoch [22/50], Train Loss: 0.5893, Test Loss: 0.7126, Train Accuracy: 78.6821, Test Accuracy: 74.1201\n",
      "Epoch [23/50], Train Loss: 0.5745, Test Loss: 0.7047, Train Accuracy: 79.4679, Test Accuracy: 74.0487\n",
      "Epoch [24/50], Train Loss: 0.5622, Test Loss: 0.7094, Train Accuracy: 79.7500, Test Accuracy: 74.3674\n",
      "Epoch [25/50], Train Loss: 0.5466, Test Loss: 0.7297, Train Accuracy: 80.3571, Test Accuracy: 73.7253\n",
      "Epoch [26/50], Train Loss: 0.5364, Test Loss: 0.7087, Train Accuracy: 80.7143, Test Accuracy: 74.2675\n",
      "Epoch [27/50], Train Loss: 0.5208, Test Loss: 0.7883, Train Accuracy: 81.2000, Test Accuracy: 71.3661\n",
      "Epoch [28/50], Train Loss: 0.5073, Test Loss: 0.7173, Train Accuracy: 81.9000, Test Accuracy: 73.5731\n",
      "Epoch [29/50], Train Loss: 0.4984, Test Loss: 0.7560, Train Accuracy: 81.9786, Test Accuracy: 73.1069\n",
      "Epoch [30/50], Train Loss: 0.4880, Test Loss: 0.7594, Train Accuracy: 82.1607, Test Accuracy: 72.3887\n",
      "Epoch [31/50], Train Loss: 0.4767, Test Loss: 0.7033, Train Accuracy: 82.7929, Test Accuracy: 74.0535\n",
      "Epoch [32/50], Train Loss: 0.4581, Test Loss: 0.7290, Train Accuracy: 83.3679, Test Accuracy: 73.3780\n",
      "Epoch [33/50], Train Loss: 0.4496, Test Loss: 0.7364, Train Accuracy: 83.6857, Test Accuracy: 73.5683\n",
      "Epoch [34/50], Train Loss: 0.4372, Test Loss: 0.7251, Train Accuracy: 84.4607, Test Accuracy: 73.9821\n",
      "Epoch [35/50], Train Loss: 0.4233, Test Loss: 0.7373, Train Accuracy: 84.8107, Test Accuracy: 73.3923\n",
      "Epoch [36/50], Train Loss: 0.4130, Test Loss: 0.7862, Train Accuracy: 85.2571, Test Accuracy: 71.7561\n",
      "Epoch [37/50], Train Loss: 0.4002, Test Loss: 0.7466, Train Accuracy: 85.5571, Test Accuracy: 73.2258\n",
      "Epoch [38/50], Train Loss: 0.3922, Test Loss: 0.7537, Train Accuracy: 85.8500, Test Accuracy: 72.7930\n",
      "Epoch [39/50], Train Loss: 0.3784, Test Loss: 0.8067, Train Accuracy: 86.4679, Test Accuracy: 71.5658\n",
      "Epoch [40/50], Train Loss: 0.3668, Test Loss: 0.7553, Train Accuracy: 86.9000, Test Accuracy: 72.9357\n",
      "Epoch [41/50], Train Loss: 0.3564, Test Loss: 0.8383, Train Accuracy: 86.9607, Test Accuracy: 71.3470\n",
      "Epoch [42/50], Train Loss: 0.3503, Test Loss: 0.8704, Train Accuracy: 87.4250, Test Accuracy: 70.7097\n",
      "Epoch [43/50], Train Loss: 0.3347, Test Loss: 0.8258, Train Accuracy: 87.9571, Test Accuracy: 72.1937\n",
      "Epoch [44/50], Train Loss: 0.3253, Test Loss: 0.8624, Train Accuracy: 88.2893, Test Accuracy: 71.4041\n",
      "Epoch [45/50], Train Loss: 0.3172, Test Loss: 0.8183, Train Accuracy: 88.5393, Test Accuracy: 71.9796\n",
      "Epoch [46/50], Train Loss: 0.3088, Test Loss: 0.8062, Train Accuracy: 88.7536, Test Accuracy: 72.2983\n",
      "Epoch [47/50], Train Loss: 0.3021, Test Loss: 0.8015, Train Accuracy: 89.0679, Test Accuracy: 72.3031\n",
      "Epoch [48/50], Train Loss: 0.2902, Test Loss: 0.8078, Train Accuracy: 89.5679, Test Accuracy: 72.0225\n",
      "Epoch [49/50], Train Loss: 0.2824, Test Loss: 0.8610, Train Accuracy: 89.8071, Test Accuracy: 71.7038\n",
      "Epoch [50/50], Train Loss: 0.2760, Test Loss: 0.8583, Train Accuracy: 89.9821, Test Accuracy: 71.7799\n"
     ]
    }
   ],
   "source": [
    "torch.manual_seed(42)  # Set seed for reproducibility\n",
    "device = torch.device(\"cuda:0\" if torch.cuda.is_available() else \"cpu\")\n",
    "\n",
    "model__ = SmallCNN().to(device)\n",
    "\n",
    "criterion = nn.CrossEntropyLoss()  # Cross-entropy loss for classification\n",
    "optimizer = torch.optim.SGD(model__.parameters(), lr=0.001)  \n",
    "\n",
    "num_epochs = 50\n",
    "test_losses_list = []\n",
    "train_losses_list = []\n",
    "accuracy_train_list = []\n",
    "accuracy_test_list = []\n",
    "\n",
    "for epoch in range(num_epochs):\n",
    "    model__.train()\n",
    "    running_loss, accuracy_train = 0.0, 0.0\n",
    "    for i, (images, labels) in enumerate(train_dataloader):\n",
    "        images, labels = images.to(device), labels.to(device)  # Move data to GPU\n",
    "        outputs = model__(images)\n",
    "        loss = criterion(outputs, labels)\n",
    "        \n",
    "        # Backward pass and optimization\n",
    "        optimizer.zero_grad()\n",
    "        loss.backward()\n",
    "        optimizer.step()\n",
    "        running_loss += loss.item()\n",
    "        accuracy_train += accuracy(labels, outputs.argmax(dim=1))\n",
    "    train_losses_list.append(running_loss / len(train_dataloader))\n",
    "    \n",
    "    # Just calculating the test loss and accuracy\n",
    "    with torch.no_grad():\n",
    "        model__.eval()\n",
    "        test_loss, accuracy_test = 0.0, 0.0\n",
    "        for i, (images, labels) in enumerate(test_dataloader):\n",
    "            images, labels = images.to(device), labels.to(device)  # Move data to GPU\n",
    "            outputs = model__(images)\n",
    "            loss = criterion(outputs, labels)\n",
    "            test_loss += loss.item()\n",
    "            accuracy_test += accuracy(labels, outputs.argmax(dim=1))\n",
    "    test_losses_list.append(test_loss / len(test_dataloader))\n",
    "    \n",
    "    accuracy_train_list.append(accuracy_train / len(train_dataloader))\n",
    "    accuracy_test_list.append(accuracy_test / len(test_dataloader))\n",
    "\n",
    "    print(f'Epoch [{epoch+1}/{num_epochs}], Train Loss: {running_loss / len(train_dataloader):.4f}, Test Loss: {test_loss / len(test_dataloader):.4f}, Train Accuracy: {accuracy_train / len(train_dataloader):.4f}, Test Accuracy: {accuracy_test / len(test_dataloader):.4f}')"
   ]
  },
  {
   "cell_type": "code",
   "execution_count": null,
   "metadata": {},
   "outputs": [],
   "source": []
  },
  {
   "cell_type": "code",
   "execution_count": 10,
   "metadata": {},
   "outputs": [
    {
     "ename": "ImportError",
     "evalue": "cannot import name 'confusion_matrix_plot' from 'plots' (D:\\LARGE_CNN\\ECG_ML\\MAIN\\plots.py)",
     "output_type": "error",
     "traceback": [
      "\u001b[1;31m---------------------------------------------------------------------------\u001b[0m",
      "\u001b[1;31mImportError\u001b[0m                               Traceback (most recent call last)",
      "Cell \u001b[1;32mIn[10], line 3\u001b[0m\n\u001b[0;32m      1\u001b[0m \u001b[38;5;28;01mfrom\u001b[39;00m \u001b[38;5;21;01mplots\u001b[39;00m \u001b[38;5;28;01mimport\u001b[39;00m accuracy_and_validation_plots\n\u001b[1;32m----> 3\u001b[0m \u001b[38;5;28;01mfrom\u001b[39;00m \u001b[38;5;21;01mplots\u001b[39;00m \u001b[38;5;28;01mimport\u001b[39;00m confusion_matrix_plot,classification_report_print,precision_recall_curve_plot\n\u001b[0;32m      4\u001b[0m \u001b[38;5;66;03m# Example data: Replace these with your actual training and validation data\u001b[39;00m\n\u001b[0;32m      5\u001b[0m epochs_\u001b[38;5;241m=\u001b[39m \u001b[38;5;28mlist\u001b[39m(\u001b[38;5;28mrange\u001b[39m(\u001b[38;5;241m1\u001b[39m, \u001b[38;5;28mlen\u001b[39m(train_losses_list)\u001b[38;5;241m+\u001b[39m\u001b[38;5;241m1\u001b[39m))\n",
      "\u001b[1;31mImportError\u001b[0m: cannot import name 'confusion_matrix_plot' from 'plots' (D:\\LARGE_CNN\\ECG_ML\\MAIN\\plots.py)"
     ]
    },
    {
     "ename": "",
     "evalue": "",
     "output_type": "error",
     "traceback": [
      "\u001b[1;31mThe Kernel crashed while executing code in the current cell or a previous cell. \n",
      "\u001b[1;31mPlease review the code in the cell(s) to identify a possible cause of the failure. \n",
      "\u001b[1;31mClick <a href='https://aka.ms/vscodeJupyterKernelCrash'>here</a> for more info. \n",
      "\u001b[1;31mView Jupyter <a href='command:jupyter.viewOutput'>log</a> for further details."
     ]
    }
   ],
   "source": [
    "from plots import accuracy_and_validation_plots\n",
    "\n",
    "from plots import confusion_matrix_plot,classification_report_print,precision_recall_curve_plot\n",
    "# Example data: Replace these with your actual training and validation data\n",
    "epochs_= list(range(1, len(train_losses_list)+1))\n",
    "\n",
    "accuracy_and_validation_plots(epochs_, train_losses_list, test_losses_list, accuracy_train_list,accuracy_test_list).plot_figure(\"accuracy.png\")\n"
   ]
  },
  {
   "cell_type": "code",
   "execution_count": 22,
   "metadata": {},
   "outputs": [
    {
     "ename": "ImportError",
     "evalue": "cannot import name 'confusion_matrix_plot' from 'plots' (D:\\LARGE_CNN\\ECG_ML\\MAIN\\plots.py)",
     "output_type": "error",
     "traceback": [
      "\u001b[1;31m---------------------------------------------------------------------------\u001b[0m",
      "\u001b[1;31mImportError\u001b[0m                               Traceback (most recent call last)",
      "Cell \u001b[1;32mIn[22], line 1\u001b[0m\n\u001b[1;32m----> 1\u001b[0m \u001b[38;5;28;01mfrom\u001b[39;00m \u001b[38;5;21;01mplots\u001b[39;00m \u001b[38;5;28;01mimport\u001b[39;00m confusion_matrix_plot,classification_report_print,precision_recall_curve_plot,accuracy_and_validation_plots\n\u001b[0;32m      2\u001b[0m \u001b[38;5;28;01mfrom\u001b[39;00m \u001b[38;5;21;01mplots\u001b[39;00m \u001b[38;5;28;01mimport\u001b[39;00m model_evaluate,roc_curve_plot\n",
      "\u001b[1;31mImportError\u001b[0m: cannot import name 'confusion_matrix_plot' from 'plots' (D:\\LARGE_CNN\\ECG_ML\\MAIN\\plots.py)"
     ]
    }
   ],
   "source": [
    "from plots import confusion_matrix_plot,classification_report_print,precision_recall_curve_plot,accuracy_and_validation_plots\n",
    "from plots import model_evaluate,roc_curve_plot\n"
   ]
  },
  {
   "cell_type": "code",
   "execution_count": 26,
   "metadata": {},
   "outputs": [],
   "source": [
    "y_true, y_pred=model_evaluate(model__, test_dataloader, device)\n",
    "label_name = ['1dAVB','AF','LBBB','normal','RBBB','SB','ST']"
   ]
  },
  {
   "cell_type": "code",
   "execution_count": 29,
   "metadata": {},
   "outputs": [],
   "source": [
    "label_name = ['1dAVB','AF','LBBB','normal','RBBB','SB','ST']"
   ]
  },
  {
   "cell_type": "code",
   "execution_count": 38,
   "metadata": {},
   "outputs": [
    {
     "data": {
      "text/plain": [
       "<module 'plots' from 'D:\\\\LARGE_CNN\\\\ECG_ML\\\\MAIN\\\\plots.py'>"
      ]
     },
     "execution_count": 38,
     "metadata": {},
     "output_type": "execute_result"
    }
   ],
   "source": [
    "# Step 1: Import the importlib module\n",
    "import importlib\n",
    "\n",
    "# Step 2: Import your updated module\n",
    "import plots\n",
    "importlib.reload(plots)\n"
   ]
  },
  {
   "cell_type": "code",
   "execution_count": 40,
   "metadata": {},
   "outputs": [],
   "source": [
    "from plots import ModelEvaluator"
   ]
  },
  {
   "cell_type": "code",
   "execution_count": 41,
   "metadata": {},
   "outputs": [],
   "source": [
    "model_evaluator = ModelEvaluator(model__,test_dataloader,label_name)"
   ]
  },
  {
   "cell_type": "code",
   "execution_count": 49,
   "metadata": {},
   "outputs": [
    {
     "name": "stdout",
     "output_type": "stream",
     "text": [
      "              precision    recall  f1-score   support\n",
      "\n",
      "       1dAVB       0.37      0.34      0.36      1016\n",
      "          AF       0.46      0.35      0.40       996\n",
      "        LBBB       0.65      0.77      0.70       996\n",
      "      normal       0.69      0.38      0.49       987\n",
      "        RBBB       0.42      0.64      0.50      1050\n",
      "          SB       0.82      0.80      0.81       991\n",
      "          ST       0.83      0.84      0.84       964\n",
      "\n",
      "    accuracy                           0.59      7000\n",
      "   macro avg       0.60      0.59      0.59      7000\n",
      "weighted avg       0.60      0.59      0.58      7000\n",
      "\n"
     ]
    },
    {
     "data": {
      "image/png": "[encoded data removed]",
      "text/plain": [
       "<Figure size 1000x700 with 2 Axes>"
      ]
     },
     "metadata": {},
     "output_type": "display_data"
    }
   ],
   "source": [
    "model_evaluator.classification_report_print()\n",
    "model_evaluator.confusion_matrix_plot()\n"
   ]
  },
  {
   "cell_type": "code",
   "execution_count": 16,
   "metadata": {},
   "outputs": [],
   "source": [
    "os.getcwd()\n",
    "torch.save(model__.state_dict(), 'model_imagestack.pth')"
   ]
  },
  {
   "cell_type": "code",
   "execution_count": 17,
   "metadata": {},
   "outputs": [
    {
     "data": {
      "text/plain": [
       "'d:\\\\LARGE_CNN\\\\ECG_ML\\\\MAIN\\\\zenodo_data\\\\data_stack_image'"
      ]
     },
     "execution_count": 17,
     "metadata": {},
     "output_type": "execute_result"
    }
   ],
   "source": [
    "os.getcwd()\n"
   ]
  }
 ],
 "metadata": {
  "kernelspec": {
   "display_name": "base",
   "language": "python",
   "name": "python3"
  },
  "language_info": {
   "codemirror_mode": {
    "name": "ipython",
    "version": 3
   },
   "file_extension": ".py",
   "mimetype": "text/x-python",
   "name": "python",
   "nbconvert_exporter": "python",
   "pygments_lexer": "ipython3",
   "version": "3.11.7"
  }
 },
 "nbformat": 4,
 "nbformat_minor": 2
}
