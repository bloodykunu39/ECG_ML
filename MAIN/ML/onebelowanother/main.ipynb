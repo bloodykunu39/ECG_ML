{
 "cells": [
  {
   "cell_type": "code",
   "execution_count": 1,
   "metadata": {},
   "outputs": [],
   "source": [
    "import numpy as np"
   ]
  },
  {
   "cell_type": "markdown",
   "metadata": {},
   "source": [
    "### Data to Image"
   ]
  },
  {
   "cell_type": "code",
   "execution_count": null,
   "metadata": {},
   "outputs": [],
   "source": [
    "import matplotlib.pyplot as plt\n",
    "from io import BytesIO\n",
    "from PIL import Image\n",
    "\n",
    "### Use this to covert the data to an image matrix\n",
    "\n",
    "def image_matrix(data):\n",
    "    plt.plot(data)\n",
    "    buf = BytesIO()\n",
    "    plt.savefig(buf, format = 'png')\n",
    "    plt.close()\n",
    "\n",
    "    buf.seek(0)\n",
    "    image = Image.open(buf)\n",
    "    image_array = np.array(image)\n",
    "    image_mat = image_array.mean(axis = -1)\n",
    "\n",
    "    return image_mat"
   ]
  },
  {
   "cell_type": "markdown",
   "metadata": {},
   "source": [
    "#### One below another"
   ]
  },
  {
   "cell_type": "code",
   "execution_count": 9,
   "metadata": {},
   "outputs": [],
   "source": [
    "data_list = []\n",
    "for i in range(12):\n",
    "    data_list.append(np.random.randn(480,640))"
   ]
  },
  {
   "cell_type": "code",
   "execution_count": null,
   "metadata": {},
   "outputs": [],
   "source": [
    "#### Use this function to stack one image below another\n",
    "def stack(data):\n",
    "    stack_matrix = data[0]\n",
    "    for i in range(1,12):\n",
    "        stack_matrix = np.vstack((stack_matrix, data[i]))\n",
    "    return stack_matrix\n",
    "def random_choice(arr):\n",
    "    selected_indices = np.random.choice(arr.shape[0], size=5000, replace=False)\n",
    "    selected_elements = arr[selected_indices, :, :]\n",
    "    return selected_elements"
   ]
  },
  {
   "cell_type": "code",
   "execution_count": 14,
   "metadata": {},
   "outputs": [
    {
     "data": {
      "text/plain": [
       "(5760, 640)"
      ]
     },
     "execution_count": 14,
     "metadata": {},
     "output_type": "execute_result"
    }
   ],
   "source": [
    "stack(data_list).shape"
   ]
  },
  {
   "cell_type": "code",
   "execution_count": 1,
   "metadata": {},
   "outputs": [
    {
     "name": "stdout",
     "output_type": "stream",
     "text": [
      "Data split into 10 parts\n"
     ]
    }
   ],
   "source": [
    "split_number = 10\n",
    "print('Data split into {} parts'.format(split_number))\n"
   ]
  },
  {
   "cell_type": "code",
   "execution_count": null,
   "metadata": {},
   "outputs": [],
   "source": [
    "import numpy as np\n",
    "from time import time\n",
    "\n",
    "data_ST = np.load('../../data_prep/disease_ST.npy')\n",
    "data_ST = random_choice(data_ST)\n",
    "split_number = 10\n",
    "if len(data_ST)%split_number == 0:\n",
    "    data_split = np.split(data_ST, split_number)\n",
    "    print(f'Data_ST split into {split_number} parts')\n",
    "    for i in range(split_number):\n",
    "        start = time()\n",
    "        cc = data_split[i]\n",
    "        result_mat=[]\n",
    "        for j in cc:\n",
    "            sup=stack(j)\n",
    "            result_mat.append(sup)        \n",
    "        result_mat = np.array(result_mat)\n",
    "\n",
    "        cc_mat = []\n",
    "        for j in range(result_mat.shape[0]):\n",
    "            cc_mat.append(result_mat[j].ravel())\n",
    "        # save as txt file\n",
    "        np.savetxt('data_stack_image/disease_ST_physio_st' + '_'+str(i) + '.txt',cc_mat) \n",
    "        end=time()\n",
    "        print(f'Time taken for {i}th iteration is {end-start}')\n",
    "\n",
    "else:\n",
    "    print('Data_ST cannot be split into 10 parts')\n",
    "\n"
   ]
  },
  {
   "cell_type": "code",
   "execution_count": null,
   "metadata": {},
   "outputs": [],
   "source": [
    "# SR\n",
    "data_SR = np.load('../../data_prep/disease_SR.npy')\n",
    "data_SR = random_choice(data_SR)\n",
    "split_number = 10\n",
    "if len(data_SR)%split_number == 0:\n",
    "    data_split = np.split(data_SR, split_number)\n",
    "    print(f'Data_SR split into {split_number} parts')\n",
    "    for i in range(split_number):\n",
    "        start = time()\n",
    "        cc = data_split[i]\n",
    "        result_mat=[]\n",
    "        for j in cc:\n",
    "            sup=stack(j)\n",
    "            result_mat.append(sup)        \n",
    "        result_mat = np.array(result_mat)\n",
    "\n",
    "        cc_mat = []\n",
    "        for j in range(result_mat.shape[0]):\n",
    "            cc_mat.append(result_mat[j].ravel())\n",
    "        # save as txt file\n",
    "        np.savetxt('data_stack_image/disease_SR_physio_st' + '_'+str(i) + '.txt',cc_mat) \n",
    "        end=time()\n",
    "        print(f'Time taken for {i}th iteration is {end-start}')\n",
    "\n",
    "else:\n",
    "    print('Data_SR cannot be split into 10 parts')\n",
    "\n",
    "\n",
    "    "
   ]
  },
  {
   "cell_type": "code",
   "execution_count": null,
   "metadata": {},
   "outputs": [],
   "source": [
    "# SB\n",
    "data_SB = np.load('../../data_prep/disease_SB.npy')\n",
    "data_SB = random_choice(data_SB)\n",
    "split_number = 10\n",
    "if len(data_SB)%split_number == 0:\n",
    "    data_split = np.split(data_SB, split_number)\n",
    "    print(f'Data_SB split into {split_number} parts')\n",
    "    for i in range(split_number):\n",
    "        start = time()\n",
    "        cc = data_split[i]\n",
    "        result_mat=[]\n",
    "        for j in cc:\n",
    "            sup=stack(j)\n",
    "            result_mat.append(sup)        \n",
    "        result_mat = np.array(result_mat)\n",
    "\n",
    "        cc_mat = []\n",
    "        for j in range(result_mat.shape[0]):\n",
    "            cc_mat.append(result_mat[j].ravel())\n",
    "        # save as txt file\n",
    "        np.savetxt('data_stack_image/disease_SB_physio_st' + '_'+str(i) + '.txt',cc_mat) \n",
    "        end=time()\n",
    "        print(f'Time taken for {i}th iteration is {end-start}')\n",
    "\n",
    "else:\n",
    "    print('Data_SB cannot be split into 10 parts')\n",
    "    "
   ]
  }
 ],
 "metadata": {
  "kernelspec": {
   "display_name": "Python 3",
   "language": "python",
   "name": "python3"
  },
  "language_info": {
   "codemirror_mode": {
    "name": "ipython",
    "version": 3
   },
   "file_extension": ".py",
   "mimetype": "text/x-python",
   "name": "python",
   "nbconvert_exporter": "python",
   "pygments_lexer": "ipython3",
   "version": "3.12.2"
  }
 },
 "nbformat": 4,
 "nbformat_minor": 2
}
