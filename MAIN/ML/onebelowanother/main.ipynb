{
 "cells": [
  {
   "cell_type": "code",
   "execution_count": 8,
   "metadata": {},
   "outputs": [],
   "source": [
    "import numpy as np"
   ]
  },
  {
   "cell_type": "markdown",
   "metadata": {},
   "source": [
    "### Data to Image"
   ]
  },
  {
   "cell_type": "code",
   "execution_count": 9,
   "metadata": {},
   "outputs": [],
   "source": [
    "import matplotlib.pyplot as plt\n",
    "from io import BytesIO\n",
    "from PIL import Image\n",
    "\n",
    "### Use this to covert the data to an image matrix\n",
    "\n",
    "def image_matrix(data):\n",
    "    plt.plot(data)\n",
    "    buf = BytesIO()\n",
    "    plt.savefig(buf, format = 'png')\n",
    "    plt.close()\n",
    "\n",
    "    buf.seek(0)\n",
    "    image = Image.open(buf)\n",
    "    image_array = np.array(image)\n",
    "    image_mat = image_array.mean(axis = -1)\n",
    "\n",
    "    return image_mat"
   ]
  },
  {
   "cell_type": "markdown",
   "metadata": {},
   "source": [
    "#### One below another"
   ]
  },
  {
   "cell_type": "code",
   "execution_count": 10,
   "metadata": {},
   "outputs": [],
   "source": [
    "data_list = []\n",
    "for i in range(12):\n",
    "    data_list.append(np.random.randn(480,640))"
   ]
  },
  {
   "cell_type": "code",
   "execution_count": null,
   "metadata": {},
   "outputs": [],
   "source": []
  },
  {
   "cell_type": "code",
   "execution_count": 11,
   "metadata": {},
   "outputs": [],
   "source": [
    "#### Use this function to stack one image below another\n",
    "def stack(data):\n",
    "    stack_matrix = data[0]\n",
    "    for i in range(1,12):\n",
    "        stack_matrix = np.vstack((stack_matrix, data[i]))\n",
    "    return stack_matrix\n",
    "def random_choice(arr):\n",
    "    selected_indices = np.random.choice(arr.shape[0], size=5000, replace=False)\n",
    "    selected_elements = arr[selected_indices, :, :]\n",
    "    return selected_elements"
   ]
  },
  {
   "cell_type": "code",
   "execution_count": 12,
   "metadata": {},
   "outputs": [],
   "source": [
    "import numpy as np\n",
    "from time import time\n"
   ]
  },
  {
   "cell_type": "code",
   "execution_count": 13,
   "metadata": {},
   "outputs": [
    {
     "data": {
      "text/plain": [
       "3686400"
      ]
     },
     "execution_count": 13,
     "metadata": {},
     "output_type": "execute_result"
    }
   ],
   "source": [
    "5760*640"
   ]
  },
  {
   "cell_type": "code",
   "execution_count": null,
   "metadata": {},
   "outputs": [],
   "source": []
  },
  {
   "cell_type": "code",
   "execution_count": 14,
   "metadata": {},
   "outputs": [],
   "source": [
    "import numpy as np\n",
    "import time as time\n",
    "def split_and_savetext_onebelowanother(data,disease_name:str, split_number:int=10):    # Check if the data can be evenly split\n",
    "    data = random_choice(data)\n",
    "    if len(data)%split_number == 0:\n",
    "        data_split = np.split(data, split_number)\n",
    "        print(f'Data_ST split into {split_number} parts')\n",
    "        #print(f\"data split shape:{data_split[0].shape}\")\n",
    "        for i in range(split_number):\n",
    "            start = time()\n",
    "            cc = data_split[i]\n",
    "            #print(f\"cc:{cc.shape}\")\n",
    "            result_mat=[]\n",
    "            for j in cc:\n",
    "                #print(f\"j:{j.shape}\")\n",
    "                data_list=[]\n",
    "                for k in range (j.shape[1]):\n",
    "                    img = image_matrix(j[:,k])\n",
    "                    data_list.append(img)\n",
    "                sup = stack(data_list)\n",
    "                result_mat.append(sup)\n",
    "                #print(sup.shape)        \n",
    "            result_mat = np.array(result_mat)\n",
    "\n",
    "            cc_mat = []\n",
    "            for j in range(result_mat.shape[0]):\n",
    "                cc_mat.append(result_mat[j].ravel())\n",
    "            # save as txt file\n",
    "            np.savetxt(f'disease_{disease_name}_physio_st' + '_'+str(i) + '.txt',cc_mat) \n",
    "            end=time()\n",
    "            print(f'Time taken for {i}th iteration is {end-start}')\n",
    "\n",
    "    else:\n",
    "        print(f'Data_ST cannot be split into {split_number} parts')\n",
    "\n"
   ]
  },
  {
   "cell_type": "code",
   "execution_count": 8,
   "metadata": {},
   "outputs": [
    {
     "name": "stdout",
     "output_type": "stream",
     "text": [
      "Data_ST split into 10 parts\n",
      "Time taken for 0th iteration is 2828.632885694504\n",
      "Time taken for 1th iteration is 3052.835470199585\n",
      "Time taken for 2th iteration is 3313.742831468582\n",
      "Time taken for 3th iteration is 3538.516785621643\n",
      "Time taken for 4th iteration is 3806.610528230667\n",
      "Time taken for 5th iteration is 4226.622996807098\n",
      "Time taken for 6th iteration is 4836.950400352478\n",
      "Time taken for 7th iteration is 4703.746798992157\n",
      "Time taken for 8th iteration is 4757.220386266708\n",
      "Time taken for 9th iteration is 4913.717463731766\n"
     ]
    }
   ],
   "source": [
    "\n",
    "data = np.load('../../data_prep/disease_ST.npy')\n",
    "data = random_choice(data)\n",
    "split_number = 10\n",
    "\n",
    "split_and_savetext_onebelowanother(data, 'ST', split_number)\n",
    "\n",
    "\n",
    "    \n",
    "\n"
   ]
  },
  {
   "cell_type": "code",
   "execution_count": 18,
   "metadata": {},
   "outputs": [
    {
     "name": "stdout",
     "output_type": "stream",
     "text": [
      "Data_ST split into 20 parts\n",
      "Time taken for 0th iteration is 12775.160556316376\n",
      "Time taken for 1th iteration is 1814.593822479248\n",
      "Time taken for 2th iteration is 2127.578558921814\n",
      "Time taken for 3th iteration is 2417.3833994865417\n",
      "Time taken for 4th iteration is 2660.1625714302063\n",
      "Time taken for 5th iteration is 2404.138580799103\n",
      "Time taken for 6th iteration is 2281.424276828766\n",
      "Time taken for 7th iteration is 2253.996561050415\n",
      "Time taken for 8th iteration is 2107.842034339905\n",
      "Time taken for 9th iteration is 2033.6571717262268\n",
      "Time taken for 10th iteration is 2264.2805259227753\n",
      "Time taken for 11th iteration is 2312.195065498352\n",
      "Time taken for 12th iteration is 2180.158292531967\n",
      "Time taken for 13th iteration is 2093.948531627655\n",
      "Time taken for 14th iteration is 2139.8649966716766\n",
      "Time taken for 15th iteration is 2276.4408764839172\n",
      "Time taken for 16th iteration is 2285.0898838043213\n",
      "Time taken for 17th iteration is 2313.593295097351\n",
      "Time taken for 18th iteration is 2397.690893173218\n",
      "Time taken for 19th iteration is 2527.30140376091\n"
     ]
    }
   ],
   "source": [
    "# SR\n",
    "\n",
    "data = np.load('../../data_prep/disease_SR.npy')\n",
    "split_number = 20\n",
    "\n",
    "split_and_savetext_onebelowanother(data, 'SR', split_number)"
   ]
  },
  {
   "cell_type": "code",
   "execution_count": 15,
   "metadata": {},
   "outputs": [
    {
     "name": "stdout",
     "output_type": "stream",
     "text": [
      "Data_ST split into 20 parts\n",
      "Time taken for 0th iteration is 1376.083015203476\n",
      "Time taken for 1th iteration is 1382.7621221542358\n",
      "Time taken for 2th iteration is 1406.8582828044891\n",
      "Time taken for 3th iteration is 1439.086421251297\n",
      "Time taken for 4th iteration is 1475.771243572235\n",
      "Time taken for 5th iteration is 1491.5371084213257\n",
      "Time taken for 6th iteration is 1519.9732930660248\n",
      "Time taken for 7th iteration is 1570.0593044757843\n",
      "Time taken for 8th iteration is 1558.835902929306\n",
      "Time taken for 9th iteration is 1625.9176092147827\n",
      "Time taken for 10th iteration is 1628.9384825229645\n",
      "Time taken for 11th iteration is 1868.4855697154999\n",
      "Time taken for 12th iteration is 2003.4206833839417\n",
      "Time taken for 13th iteration is 2005.2643909454346\n",
      "Time taken for 14th iteration is 2032.4114656448364\n",
      "Time taken for 15th iteration is 2134.9302821159363\n",
      "Time taken for 16th iteration is 2086.786183834076\n",
      "Time taken for 17th iteration is 2112.4114937782288\n",
      "Time taken for 18th iteration is 2146.767380475998\n",
      "Time taken for 19th iteration is 2269.6585986614227\n"
     ]
    }
   ],
   "source": [
    "# SB\n",
    "import numpy as np\n",
    "from time import time\n",
    "data = np.load('../../data_prep/disease_SB.npy')\n",
    "data = random_choice(data)\n",
    "split_number = 20\n",
    "\n",
    "split_and_savetext_onebelowanother(data, 'SB', split_number)"
   ]
  },
  {
   "cell_type": "code",
   "execution_count": null,
   "metadata": {},
   "outputs": [],
   "source": []
  }
 ],
 "metadata": {
  "kernelspec": {
   "display_name": "Python 3",
   "language": "python",
   "name": "python3"
  },
  "language_info": {
   "codemirror_mode": {
    "name": "ipython",
    "version": 3
   },
   "file_extension": ".py",
   "mimetype": "text/x-python",
   "name": "python",
   "nbconvert_exporter": "python",
   "pygments_lexer": "ipython3",
   "version": "3.11.7"
  }
 },
 "nbformat": 4,
 "nbformat_minor": 2
}
