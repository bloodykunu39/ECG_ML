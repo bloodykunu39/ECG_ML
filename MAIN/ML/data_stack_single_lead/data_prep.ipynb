{
 "cells": [
  {
   "cell_type": "code",
   "execution_count": 1,
   "metadata": {},
   "outputs": [],
   "source": [
    "import matplotlib.pyplot as plt\n",
    "from io import BytesIO\n",
    "from PIL import Image\n",
    "import numpy as np\n",
    "from time import time\n",
    "import os\n"
   ]
  },
  {
   "cell_type": "code",
   "execution_count": 5,
   "metadata": {},
   "outputs": [],
   "source": [
    "### Use this to covert the data to an image matrix\n",
    "\n",
    "def image_matrix(data):\n",
    "    plt.plot(data)\n",
    "    buf = BytesIO()\n",
    "    plt.savefig(buf, format = 'png')\n",
    "    plt.close()\n",
    "\n",
    "    buf.seek(0)\n",
    "    image = Image.open(buf)\n",
    "    image_array = np.array(image)\n",
    "    image_mat = image_array.mean(axis = -1)\n",
    "\n",
    "    return image_mat\n",
    "typ=\"sng_ld_im\""
   ]
  },
  {
   "cell_type": "code",
   "execution_count": 3,
   "metadata": {},
   "outputs": [
    {
     "data": {
      "text/plain": [
       "'/home/karansingh/Documents/summer-term/ECG_ML/MAIN/ML/data_stack_single_lead'"
      ]
     },
     "execution_count": 3,
     "metadata": {},
     "output_type": "execute_result"
    }
   ],
   "source": [
    "# curren working directory\n",
    "# os.chdir('data_prep')\n",
    "# os.chdir('..')\n",
    "cwd = os.getcwd()\n",
    "cwd\n",
    "#os.listdir()"
   ]
  },
  {
   "cell_type": "code",
   "execution_count": 6,
   "metadata": {},
   "outputs": [
    {
     "name": "stdout",
     "output_type": "stream",
     "text": [
      "Data_ST split into 10 parts\n"
     ]
    }
   ],
   "source": [
    "data = np.load('../../../../KARAN_ECG/data_prep/disease_ST.npy')\n",
    "split_number = 10\n",
    "if len(data)%split_number == 0:\n",
    "    data_split = np.split(data, split_number)\n",
    "    print(f'Data_ST split into {split_number} parts')"
   ]
  },
  {
   "cell_type": "code",
   "execution_count": 10,
   "metadata": {},
   "outputs": [
    {
     "data": {
      "text/plain": [
       "(5000,)"
      ]
     },
     "execution_count": 10,
     "metadata": {},
     "output_type": "execute_result"
    }
   ],
   "source": [
    "cc=data_split[0]\n",
    "cc[1,:,1].shape\n"
   ]
  },
  {
   "cell_type": "code",
   "execution_count": 11,
   "metadata": {},
   "outputs": [
    {
     "name": "stdout",
     "output_type": "stream",
     "text": [
      "Data_ST split into 10 parts\n",
      "Time taken for 0th iteration is 52.904760122299194\n",
      "Time taken for 1th iteration is 52.34087324142456\n",
      "Time taken for 2th iteration is 52.68872570991516\n",
      "Time taken for 3th iteration is 54.05456209182739\n",
      "Time taken for 4th iteration is 53.202500343322754\n",
      "Time taken for 5th iteration is 52.72900724411011\n",
      "Time taken for 6th iteration is 51.99731087684631\n",
      "Time taken for 7th iteration is 51.994810819625854\n",
      "Time taken for 8th iteration is 50.64665341377258\n",
      "Time taken for 9th iteration is 53.36863470077515\n"
     ]
    }
   ],
   "source": [
    "data = np.load('../../../../KARAN_ECG/data_prep/disease_ST.npy')\n",
    "split_number = 10\n",
    "disease_name = 'ST'\n",
    "if len(data)%split_number == 0:\n",
    "    data_split = np.split(data, split_number)\n",
    "    print(f'Data_ST split into {split_number} parts')\n",
    "    #print(f\"data split shape:{data_split[0].shape}\")\n",
    "    for i in range(split_number):\n",
    "        start = time()\n",
    "        cc = data_split[i]\n",
    "        #print(f\"cc:{cc.shape}\")\n",
    "        result_mat=[]\n",
    "        for j in range(cc.shape[0]): # shape[0] is the number of rows\n",
    "            result_mat.append(image_matrix(cc[j,:,1]))\n",
    "        result_mat = np.array(result_mat)\n",
    "\n",
    "        cc_mat = []\n",
    "        for j in range(result_mat.shape[0]):\n",
    "            cc_mat.append(result_mat[j].ravel())\n",
    "        # save as txt file\n",
    "        np.savetxt(f'disease_{disease_name}_physio_{typ}' + '_'+str(i) + '.txt',cc_mat) \n",
    "        end=time()\n",
    "        print(f'Time taken for {i}th iteration is {end-start}')\n",
    "\n",
    "else:\n",
    "    print(f'Data_ST cannot be split into {split_number} parts')\n"
   ]
  },
  {
   "cell_type": "code",
   "execution_count": 6,
   "metadata": {},
   "outputs": [
    {
     "name": "stdout",
     "output_type": "stream",
     "text": [
      "Data_ST split into 10 parts\n",
      "Time taken for 0th iteration is 51.51676654815674\n",
      "Time taken for 1th iteration is 48.77181363105774\n",
      "Time taken for 2th iteration is 49.22374176979065\n",
      "Time taken for 3th iteration is 47.93696045875549\n",
      "Time taken for 4th iteration is 47.584336042404175\n",
      "Time taken for 5th iteration is 48.75162482261658\n",
      "Time taken for 6th iteration is 48.75533890724182\n",
      "Time taken for 7th iteration is 48.9248571395874\n",
      "Time taken for 8th iteration is 47.08735728263855\n",
      "Time taken for 9th iteration is 49.79062628746033\n"
     ]
    }
   ],
   "source": [
    "data = np.load('../../../../KARAN_ECG/data_prep/disease_SR.npy')\n",
    "split_number = 10\n",
    "disease_name = 'SR'\n",
    "if len(data)%split_number == 0:\n",
    "    data_split = np.split(data, split_number)\n",
    "    print(f'Data_SR split into {split_number} parts')\n",
    "    #print(f\"data split shape:{data_split[0].shape}\")\n",
    "    for i in range(split_number):\n",
    "        start = time()\n",
    "        cc = data_split[i]\n",
    "        #print(f\"cc:{cc.shape}\")\n",
    "        result_mat=[]\n",
    "        for j in range(cc.shape[0]): # shape[0] is the number of rows\n",
    "            result_mat.append(image_matrix(cc[j,:,1]))\n",
    "        result_mat = np.array(result_mat)\n",
    "\n",
    "        cc_mat = []\n",
    "        for j in range(result_mat.shape[0]):\n",
    "            cc_mat.append(result_mat[j].ravel())\n",
    "        # save as txt file\n",
    "        np.savetxt(f'disease_{disease_name}_physio_{typ}' + '_'+str(i) + '.txt',cc_mat) \n",
    "        end=time()\n",
    "        print(f'Time taken for {i}th iteration is {end-start}')\n",
    "\n",
    "else:\n",
    "    print(f'Data_SR cannot be split into {split_number} parts')\n"
   ]
  },
  {
   "cell_type": "code",
   "execution_count": 7,
   "metadata": {},
   "outputs": [
    {
     "name": "stdout",
     "output_type": "stream",
     "text": [
      "Data_ST split into 10 parts\n",
      "Time taken for 0th iteration is 49.58895254135132\n",
      "Time taken for 1th iteration is 48.867167472839355\n",
      "Time taken for 2th iteration is 55.34984087944031\n",
      "Time taken for 3th iteration is 48.66510820388794\n",
      "Time taken for 4th iteration is 49.71841025352478\n",
      "Time taken for 5th iteration is 52.298999071121216\n",
      "Time taken for 6th iteration is 52.43622708320618\n",
      "Time taken for 7th iteration is 50.07737350463867\n",
      "Time taken for 8th iteration is 51.34530544281006\n",
      "Time taken for 9th iteration is 48.78552293777466\n"
     ]
    }
   ],
   "source": [
    "data = np.load('../../../../KARAN_ECG/data_prep/disease_SB.npy')\n",
    "split_number = 10\n",
    "disease_name = 'SB'\n",
    "if len(data)%split_number == 0:\n",
    "    data_split = np.split(data, split_number)\n",
    "    print(f'Data_SB split into {split_number} parts')\n",
    "    #print(f\"data split shape:{data_split[0].shape}\")\n",
    "    for i in range(split_number):\n",
    "        start = time()\n",
    "        cc = data_split[i]\n",
    "        #print(f\"cc:{cc.shape}\")\n",
    "        result_mat=[]\n",
    "        for j in range(cc.shape[0]): # shape[0] is the number of rows\n",
    "            result_mat.append(image_matrix(cc[j,:,1]))\n",
    "        result_mat = np.array(result_mat)\n",
    "\n",
    "        cc_mat = []\n",
    "        for j in range(result_mat.shape[0]):\n",
    "            cc_mat.append(result_mat[j].ravel())\n",
    "        # save as txt file\n",
    "        np.savetxt(f'disease_{disease_name}_physio_{typ}' + '_'+str(i) + '.txt',cc_mat) \n",
    "        end=time()\n",
    "        print(f'Time taken for {i}th iteration is {end-start}')\n",
    "\n",
    "else:\n",
    "    print(f'Data_SB cannot be split into {split_number} parts')\n"
   ]
  }
 ],
 "metadata": {
  "kernelspec": {
   "display_name": "Python 3",
   "language": "python",
   "name": "python3"
  },
  "language_info": {
   "codemirror_mode": {
    "name": "ipython",
    "version": 3
   },
   "file_extension": ".py",
   "mimetype": "text/x-python",
   "name": "python",
   "nbconvert_exporter": "python",
   "pygments_lexer": "ipython3",
   "version": "3.10.12"
  }
 },
 "nbformat": 4,
 "nbformat_minor": 2
}
