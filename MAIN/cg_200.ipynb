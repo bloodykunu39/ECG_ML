{
 "cells": [
  {
   "cell_type": "code",
   "execution_count": 2,
   "metadata": {},
   "outputs": [],
   "source": [
    "import scipy.io as sio\n",
    "import numpy as np\n",
    "import matplotlib.pyplot as plt\n",
    "from encoding import superposition\n",
    "from smoothening import coarsegrain\n",
    "from numpy import load\n",
    "from time import time"
   ]
  },
  {
   "cell_type": "code",
   "execution_count": 19,
   "metadata": {},
   "outputs": [
    {
     "name": "stdout",
     "output_type": "stream",
     "text": [
      "0i\n"
     ]
    }
   ],
   "source": [
    "############################################################\n",
    "    \n",
    "#### SR_data\n",
    "from joblib import Parallel, delayed\n",
    "\n",
    "data = load('../../KARAN_ECG/data_prep/disease_SB.npy')\n",
    "\n",
    "split_number = 10\n",
    "if len(data)%split_number == 0:# to split data in the 10 parts\n",
    "    data_split = np.array_split(data,split_number)# numpy array of (5000, 5000, 12)\n",
    "    ### data got splitted in (500, 5000, 12) each\n",
    "\n",
    "\n",
    "\n",
    "\n",
    "\n",
    "\n",
    "for i in range(split_number):\n",
    "    \"\"\"\n",
    "        500 report[500,5000,12] >>> normalised all 500 report >>> superposition of 12 lead[500,5000,5000] >>> coarse grain[500,100,100] >>> saving the flatten layer in txt fpormat\n",
    "    \"\"\"\n",
    "    cc = data_split[i] #each 500 report\n",
    "    start = time()\n",
    "    print(\"0i\")\n",
    "    results = Parallel(n_jobs=10)(delayed(coarsegrain)(superposition(x), 25) for x in cc)\n",
    "    print(\"1i\")\n",
    "    end = time()\n",
    "\n",
    "    print(end- start)\n",
    "\n",
    "    results = np.array(results)\n",
    "    cc = []\n",
    "    for j in range(results.shape[0]):\n",
    "        cc.append(results[j].ravel())\n",
    "\n",
    "    np.savetxt('disease_SR_cg_200_svd' + '_'+str(i) + '.txt',cc)\n"
   ]
  },
  {
   "cell_type": "code",
   "execution_count": 5,
   "metadata": {},
   "outputs": [
    {
     "ename": "ValueError",
     "evalue": "could not broadcast input array from shape (5000,5000) into shape (5000,12)",
     "output_type": "error",
     "traceback": [
      "\u001b[0;31m---------------------------------------------------------------------------\u001b[0m",
      "\u001b[0;31mValueError\u001b[0m                                Traceback (most recent call last)",
      "Cell \u001b[0;32mIn[5], line 24\u001b[0m\n\u001b[1;32m     22\u001b[0m cc \u001b[38;5;241m=\u001b[39m data_split[i] \u001b[38;5;66;03m#each 500 report\u001b[39;00m\n\u001b[1;32m     23\u001b[0m \u001b[38;5;28;01mfor\u001b[39;00m i \u001b[38;5;129;01min\u001b[39;00m \u001b[38;5;28mrange\u001b[39m(cc\u001b[38;5;241m.\u001b[39mshape[\u001b[38;5;241m0\u001b[39m]):\n\u001b[0;32m---> 24\u001b[0m     \u001b[43mcc\u001b[49m\u001b[43m[\u001b[49m\u001b[43mi\u001b[49m\u001b[43m]\u001b[49m\u001b[38;5;241m=\u001b[39msuperposition(cc[i])\n\u001b[1;32m     25\u001b[0m start \u001b[38;5;241m=\u001b[39m time()\n\u001b[1;32m     26\u001b[0m results \u001b[38;5;241m=\u001b[39m Parallel(n_jobs \u001b[38;5;241m=\u001b[39m \u001b[38;5;241m10\u001b[39m)(delayed(coarsegrain)(x,\u001b[38;5;241m50\u001b[39m) \u001b[38;5;28;01mfor\u001b[39;00m x \u001b[38;5;129;01min\u001b[39;00m cc)\n",
      "\u001b[0;31mValueError\u001b[0m: could not broadcast input array from shape (5000,5000) into shape (5000,12)"
     ]
    }
   ],
   "source": [
    "############################################################\n",
    "    \n",
    "#### SR_data\n",
    "from joblib import Parallel, delayed\n",
    "\n",
    "data = load('../../KARAN_ECG/data_prep/disease_SR.npy')\n",
    "\n",
    "split_number = 10\n",
    "if len(data)%split_number == 0:# to split data in the 10 parts\n",
    "    data_split = np.array_split(data,split_number)# numpy array of (5000, 5000, 12)\n",
    "    ### data got splitted in (500, 5000, 12) each\n",
    "\n",
    "\n",
    "\n",
    "\n",
    "\n",
    "\n",
    "for i in range(split_number):\n",
    "    \"\"\"\n",
    "        500 report[500,5000,12] >>> normalised all 500 report >>> superposition of 12 lead[500,5000,5000] >>> coarse grain[500,100,100] >>> saving the flatten layer in txt fpormat\n",
    "    \"\"\"\n",
    "    cc = data_split[i] #each 500 report\n",
    "    start = time()\n",
    "    results = Parallel(n_jobs = 10)(delayed(coarsegrain)(superposition(x),50) for x in cc)\n",
    "    end = time()\n",
    "\n",
    "    print(end- start)\n",
    "\n",
    "    results = np.array(results)\n",
    "    cc = []\n",
    "    for j in range(results.shape[0]):\n",
    "        cc.append(results[j].ravel())\n",
    "\n",
    "    np.savetxt('disease_SB_cg_200_svd' + '_'+str(i) + '.txt',cc)\n"
   ]
  },
  {
   "cell_type": "code",
   "execution_count": null,
   "metadata": {},
   "outputs": [],
   "source": [
    "############################################################\n",
    "    \n",
    "#### SR_data\n",
    "from joblib import Parallel, delayed\n",
    "\n",
    "data = load('../../KARAN_ECG/data_prep/disease_ST.npy')\n",
    "\n",
    "split_number = 10\n",
    "if len(data)%split_number == 0:# to split data in the 10 parts\n",
    "    data_split = np.array_split(data,split_number)# numpy array of (5000, 5000, 12)\n",
    "    ### data got splitted in (500, 5000, 12) each\n",
    "\n",
    "\n",
    "\n",
    "\n",
    "\n",
    "\n",
    "for i in range(split_number):\n",
    "    \"\"\"\n",
    "        500 report[500,5000,12] >>> normalised all 500 report >>> superposition of 12 lead[500,5000,5000] >>> coarse grain[500,100,100] >>> saving the flatten layer in txt fpormat\n",
    "    \"\"\"\n",
    "    cc = data_split[i] #each 500 report\n",
    "    start = time()\n",
    "    results = Parallel(n_jobs = 10)(delayed(coarsegrain)(superposition(x),50) for x in cc)\n",
    "    end = time()\n",
    "\n",
    "    print(end- start)\n",
    "\n",
    "    results = np.array(results)\n",
    "    cc = []\n",
    "    for j in range(results.shape[0]):\n",
    "        cc.append(results[j].ravel())\n",
    "\n",
    "    np.savetxt('disease_ST_cg_200_svd' + '_'+str(i) + '.txt',cc)\n"
   ]
  }
 ],
 "metadata": {
  "kernelspec": {
   "display_name": "Python 3",
   "language": "python",
   "name": "python3"
  },
  "language_info": {
   "codemirror_mode": {
    "name": "ipython",
    "version": 3
   },
   "file_extension": ".py",
   "mimetype": "text/x-python",
   "name": "python",
   "nbconvert_exporter": "python",
   "pygments_lexer": "ipython3",
   "version": "3.10.12"
  }
 },
 "nbformat": 4,
 "nbformat_minor": 2
}
