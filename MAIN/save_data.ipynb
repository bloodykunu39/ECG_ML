{
 "cells": [
  {
   "cell_type": "code",
   "execution_count": 1,
   "metadata": {},
   "outputs": [],
   "source": [
    "from encoding import superposition\n",
    "from numpy import load\n",
    "import numpy as np\n",
    "from tqdm import tqdm"
   ]
  },
  {
   "cell_type": "code",
   "execution_count": 2,
   "metadata": {},
   "outputs": [],
   "source": [
    "data_SR = load('data_prep/disease_SR.npy')\n",
    "\n",
    "\n"
   ]
  },
  {
   "cell_type": "code",
   "execution_count": 3,
   "metadata": {},
   "outputs": [
    {
     "name": "stderr",
     "output_type": "stream",
     "text": [
      "100%|██████████| 5000/5000 [5:21:43<00:00,  3.86s/it]  \n"
     ]
    }
   ],
   "source": [
    "for i in tqdm(range(data_SR.shape[0])):\n",
    "    sup = superposition(data_SR[i])\n",
    "    np.save(\"data_prep/data_sb_pre_smooth/data_\"+str(i),sup)\n"
   ]
  },
  {
   "cell_type": "code",
   "execution_count": 4,
   "metadata": {},
   "outputs": [
    {
     "name": "stderr",
     "output_type": "stream",
     "text": [
      "100%|██████████| 5000/5000 [5:24:27<00:00,  3.89s/it]  \n"
     ]
    }
   ],
   "source": [
    "data_SB = load('data_prep/disease_SB.npy')\n",
    "data_ST = load('data_prep/disease_ST.npy')\n",
    "\n",
    "for i in tqdm(range(data_SB.shape[0])):\n",
    "    sup = superposition(data_SB[i])\n",
    "    np.save(\"data_prep/data_sb_pre_smooth/data_\"+str(i),sup)\n"
   ]
  },
  {
   "cell_type": "code",
   "execution_count": 5,
   "metadata": {},
   "outputs": [
    {
     "name": "stderr",
     "output_type": "stream",
     "text": [
      "100%|██████████| 5000/5000 [5:15:43<00:00,  3.79s/it]  \n"
     ]
    }
   ],
   "source": [
    "for i in tqdm(range(data_ST.shape[0])):\n",
    "    sup = superposition(data_ST[i])\n",
    "    np.save(\"data_prep/data_st_pre_smooth/data_\"+str(i),sup)\n"
   ]
  },
  {
   "cell_type": "code",
   "execution_count": null,
   "metadata": {},
   "outputs": [],
   "source": []
  }
 ],
 "metadata": {
  "kernelspec": {
   "display_name": "base",
   "language": "python",
   "name": "python3"
  },
  "language_info": {
   "codemirror_mode": {
    "name": "ipython",
    "version": 3
   },
   "file_extension": ".py",
   "mimetype": "text/x-python",
   "name": "python",
   "nbconvert_exporter": "python",
   "pygments_lexer": "ipython3",
   "version": "3.11.7"
  }
 },
 "nbformat": 4,
 "nbformat_minor": 2
}
